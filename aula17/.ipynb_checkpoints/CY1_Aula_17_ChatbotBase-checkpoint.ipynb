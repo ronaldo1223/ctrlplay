{
 "cells": [
  {
   "cell_type": "code",
   "execution_count": 4,
   "id": "2b438ef4-6d47-4617-9e22-c9a5df9896b5",
   "metadata": {},
   "outputs": [],
   "source": [
    "def saudacoes (nome):\n",
    "    import random\n",
    "    frases = ['bom dia! meu nome é {}. como vai voce?'.format(nome),\n",
    "               'olá!','oi, tudo  bem?']\n",
    "    print(frases[random.randint(0,2)])\n",
    "\n",
    "def recebeTexto(nome):\n",
    "    texto = 'Cliente: ' + input('Cliente: ')\n",
    "    palavrasproibidas = ['boco','idiota','fds']\n",
    "    for p in palavrasproibidas:\n",
    "        if p in texto:\n",
    "            print('{}:  nao vem nao! me respeite!'.format(nome))\n",
    "            return receberTexto(nome)\n",
    "        return texto\n",
    "\n",
    "def buscaResposta(nome, texto):\n",
    "    with open('CY1_Aula_17_BaseConhecimento.txt','a+') as conhecimento:\n",
    "        conhecimento.seek(0)\n",
    "        while True:\n",
    "            viu = conhecimento.readline()\n",
    "            if viu != '':\n",
    "                if texto.replace('Cliente: ','') == 'Tchau':\n",
    "                    print('{}: volte sempre!'.format(nome))\n",
    "                    return 'fim'\n",
    "                elif viu.strip() == texto.strip():\n",
    "                    proximalinha = conhecimento.readline()\n",
    "                    if 'Chatbot: ' in proximalinha:\n",
    "                        return proximalinha\n",
    "            else:\n",
    "                print('{}: Me desculpe, não sei o que falar'.format(nome))\n",
    "                conhecimento.write('\\n{}'.format(texto))\n",
    "                resposta_user = input(('{}: O que esperava?\\n'.format(nome)))\n",
    "                conhecimento.write('\\nChatbot: {}'.format(resposta_user))\n",
    "                return 'Hum...'\n",
    "\n",
    "def exibeResposta(resposta, nome):\n",
    "    print(resposta.replace('Chatbot', nome))\n",
    "    if resposta == 'fim':\n",
    "        return 'fim'\n",
    "    return 'contia' \n",
    "\n",
    "\n",
    "    "
   ]
  },
  {
   "cell_type": "code",
   "execution_count": 1,
   "id": "4a88dcf7-16c9-4af6-9dd2-f0e08f733425",
   "metadata": {},
   "outputs": [
    {
     "data": {
      "text/plain": [
       "'Chatbot: Macarrão\\n'"
      ]
     },
     "execution_count": 1,
     "metadata": {},
     "output_type": "execute_result"
    }
   ],
   "source": [
    "def buscaResposta(nome, texto):\n",
    "    with open('CY1_Aula_17_BaseConhecimento.txt','a+') as conhecimento:\n",
    "        conhecimento.seek(0)\n",
    "        while True:\n",
    "            viu = conhecimento.readline()\n",
    "            if viu != '':\n",
    "                if texto.replace('Cliente: ','') == 'Tchau':\n",
    "                    print('{}: volte sempre!'.format(nome))\n",
    "                    return 'fim'\n",
    "                elif viu.strip() == texto.strip():\n",
    "                    proximalinha = conhecimento.readline()\n",
    "                    if 'Chatbot: ' in proximalinha:\n",
    "                        return proximalinha\n",
    "            else:\n",
    "                print('{}: Me desculpe, não sei o que falar'.format(nome))\n",
    "                conhecimento.write('\\n{}'.format(texto))\n",
    "                resposta_user = input(('{}: O que esperava?\\n'.format(nome)))\n",
    "                conhecimento.write('\\nChatbot: {}'.format(resposta_user))\n",
    "                return 'Hum...'\n",
    "\n",
    "\n",
    "buscaResposta('Maria ','Cliente: Qual a sua comida favorita?')"
   ]
  }
 ],
 "metadata": {
  "kernelspec": {
   "display_name": "Python 3 (ipykernel)",
   "language": "python",
   "name": "python3"
  },
  "language_info": {
   "codemirror_mode": {
    "name": "ipython",
    "version": 3
   },
   "file_extension": ".py",
   "mimetype": "text/x-python",
   "name": "python",
   "nbconvert_exporter": "python",
   "pygments_lexer": "ipython3",
   "version": "3.11.7"
  }
 },
 "nbformat": 4,
 "nbformat_minor": 5
}
