{
 "cells": [
  {
   "cell_type": "code",
   "execution_count": null,
   "id": "b4cf9f8f-1938-4375-a2c5-fd88aa5a63fe",
   "metadata": {},
   "outputs": [
    {
     "name": "stdout",
     "output_type": "stream",
     "text": [
      "bom dia! meu nome é Maria. como vai voce?\n"
     ]
    },
    {
     "name": "stdin",
     "output_type": "stream",
     "text": [
      "Cliente:  dicas de viagem\n"
     ]
    },
    {
     "name": "stdout",
     "output_type": "stream",
     "text": [
      "Maria: Me desculpe, não sei o que falar\n"
     ]
    },
    {
     "name": "stdin",
     "output_type": "stream",
     "text": [
      "Maria: O que esperava?\n",
      " dicas de viagem no inverno \n"
     ]
    },
    {
     "name": "stdout",
     "output_type": "stream",
     "text": [
      "Hum...\n"
     ]
    },
    {
     "name": "stdin",
     "output_type": "stream",
     "text": [
      "Cliente:  qual comida voce mais gosta?\n"
     ]
    },
    {
     "name": "stdout",
     "output_type": "stream",
     "text": [
      "Maria: macarao\n",
      "\n"
     ]
    }
   ],
   "source": [
    "import CY1_Aula_17_ChatbotBase as pc\n",
    "\n",
    "nome_maquina = 'Maria'\n",
    "pc.saudacoes(nome_maquina)\n",
    "while True:\n",
    "    texto = pc.recebeTexto(nome_maquina)\n",
    "    resposta = pc.buscaResposta(nome_maquina, texto)\n",
    "    if pc.exibeResposta(resposta, nome_maquina) == 'fim':\n",
    "        break\n",
    "\n"
   ]
  },
  {
   "cell_type": "code",
   "execution_count": null,
   "id": "0107a56d-b087-481b-b5b9-b839ce95300c",
   "metadata": {},
   "outputs": [],
   "source": []
  },
  {
   "cell_type": "code",
   "execution_count": null,
   "id": "5772a870-015a-48db-b581-3b0463d7cbed",
   "metadata": {},
   "outputs": [],
   "source": []
  }
 ],
 "metadata": {
  "kernelspec": {
   "display_name": "Python 3 (ipykernel)",
   "language": "python",
   "name": "python3"
  },
  "language_info": {
   "codemirror_mode": {
    "name": "ipython",
    "version": 3
   },
   "file_extension": ".py",
   "mimetype": "text/x-python",
   "name": "python",
   "nbconvert_exporter": "python",
   "pygments_lexer": "ipython3",
   "version": "3.11.7"
  }
 },
 "nbformat": 4,
 "nbformat_minor": 5
}
