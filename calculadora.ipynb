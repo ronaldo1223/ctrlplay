{
 "cells": [
  {
   "cell_type": "code",
   "execution_count": null,
   "id": "1560f159-87dc-4749-afcc-bbb2b31d7758",
   "metadata": {},
   "outputs": [],
   "source": [
    "def soma (a,b):\n",
    "    return a+b\n",
    "\n",
    "def subtracao(a,b):\n",
    "    return a-b\n",
    "\n",
    "def multiplicacao(a,b):\n",
    "    return a*b\n",
    "\n",
    "def divisao(a,b):\n",
    "    return a/b"
   ]
  }
 ],
 "metadata": {
  "kernelspec": {
   "display_name": "Python 3 (ipykernel)",
   "language": "python",
   "name": "python3"
  },
  "language_info": {
   "codemirror_mode": {
    "name": "ipython",
    "version": 3
   },
   "file_extension": ".py",
   "mimetype": "text/x-python",
   "name": "python",
   "nbconvert_exporter": "python",
   "pygments_lexer": "ipython3",
   "version": "3.11.7"
  }
 },
 "nbformat": 4,
 "nbformat_minor": 5
}
