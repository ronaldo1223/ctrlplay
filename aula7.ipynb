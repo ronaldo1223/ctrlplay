{
 "cells": [
  {
   "cell_type": "code",
   "execution_count": 7,
   "id": "4a111ba6-644b-4e19-bce4-157177373f06",
   "metadata": {},
   "outputs": [
    {
     "name": "stdout",
     "output_type": "stream",
     "text": [
      "bem-vindo actrl+play rennan \n"
     ]
    }
   ],
   "source": [
    "def boas_vindas (nome, sobrenome):\n",
    "    print('bem-vindo actrl+play {} '.format (nome,sobrenome))\n",
    "\n",
    "\n",
    "boas_vindas ('rennan',' pereira')\n"
   ]
  },
  {
   "cell_type": "code",
   "execution_count": 9,
   "id": "292875b9-7a46-4fc3-a746-3d24e07bfabd",
   "metadata": {},
   "outputs": [
    {
     "name": "stdout",
     "output_type": "stream",
     "text": [
      "meu filme favorito é homem aranha\n",
      "meu filme favorito é avatar\n",
      "meu filme favorito é rick and morty\n"
     ]
    }
   ],
   "source": [
    "def filme_favorito(titulo):\n",
    "    print('meu filme favorito é {}' .format(titulo))\n",
    "\n",
    "filme_favorito('homem aranha')\n",
    "filme_favorito('avatar')\n",
    "filme_favorito('rick and morty')    \n"
   ]
  },
  {
   "cell_type": "code",
   "execution_count": 18,
   "id": "82011d7f-4ead-4734-b7ad-38e8bad2d499",
   "metadata": {},
   "outputs": [
    {
     "name": "stdout",
     "output_type": "stream",
     "text": [
      "0.006666666666666667\n",
      "0.01\n",
      "0.03\n",
      "0.075\n",
      "150.0\n",
      "5.0\n"
     ]
    }
   ],
   "source": [
    "def velocidade (tempo, distancia= 1000):\n",
    "    print(distancia/tempo)\n",
    "\n",
    "velocidade (300, 2)\n",
    "velocidade(500, 5)\n",
    "velocidade(100, 3)\n",
    "velocidade(80, 6 )\n",
    "\n",
    "velocidade(tempo = 4,  distancia = 600)\n",
    "\n",
    "velocidade (200)"
   ]
  },
  {
   "cell_type": "code",
   "execution_count": 28,
   "id": "885ae2a2-be84-4b50-a0e7-fe9a5cc81348",
   "metadata": {},
   "outputs": [
    {
     "name": "stdout",
     "output_type": "stream",
     "text": [
      "o maior valor entre 5 e 1 é 5 \n"
     ]
    }
   ],
   "source": [
    "def maior (x,y):\n",
    "    if x >= y :\n",
    "        return x\n",
    "    else :\n",
    "        return y\n",
    "\n",
    "\n",
    "a = 5 \n",
    "b = 1\n",
    "print('o maior valor entre {} e {} é {} '. format(a, b, maior(a,b)))"
   ]
  },
  {
   "cell_type": "code",
   "execution_count": 33,
   "id": "6d49a8e5-bf08-40bb-b8d4-193acaab86a7",
   "metadata": {},
   "outputs": [
    {
     "name": "stdout",
     "output_type": "stream",
     "text": [
      "\n",
      " preparando um açai  medio com os seguintes ingredietes: \n",
      "- ('banana', 'granola')\n",
      "- ('banana', 'granola')\n",
      "\n",
      " preparando um açai grande com os seguintes ingredietes: \n",
      "- ('morango', 'kiwi', 'leite em pó')\n",
      "- ('morango', 'kiwi', 'leite em pó')\n",
      "- ('morango', 'kiwi', 'leite em pó')\n",
      "\n",
      " preparando um açai pequeno com os seguintes ingredietes: \n",
      "- ('banana',)\n",
      "\n",
      " preparando um açai  medio com os seguintes ingredietes: \n",
      "\n",
      " preparando um açai super grande com os seguintes ingredietes: \n",
      "- ('banana', 'morango', 'leite em pó', ' chocollate')\n",
      "- ('banana', 'morango', 'leite em pó', ' chocollate')\n",
      "- ('banana', 'morango', 'leite em pó', ' chocollate')\n",
      "- ('banana', 'morango', 'leite em pó', ' chocollate')\n"
     ]
    }
   ],
   "source": [
    "def prepara_açai (*ingredientes, tamanho=' medio'):\n",
    "    print('\\n preparando um açai {} com os seguintes ingredietes: '. format(tamanho))\n",
    "    for ingrediente in ingredientes: \n",
    "        print('-',ingredientes)\n",
    "\n",
    "\n",
    "prepara_açai('banana','granola')\n",
    "prepara_açai('morango','kiwi','leite em pó', tamanho='grande')\n",
    "prepara_açai('banana',tamanho='pequeno')\n",
    "prepara_açai()\n",
    "prepara_açai ('banana','morango','leite em pó',' chocollate', tamanho='super grande')"
   ]
  },
  {
   "cell_type": "code",
   "execution_count": 39,
   "id": "e92f4790-f435-4cc3-92e6-2204d8613738",
   "metadata": {},
   "outputs": [
    {
     "name": "stdout",
     "output_type": "stream",
     "text": [
      "maior:  6\n",
      "menor:  1\n"
     ]
    }
   ],
   "source": [
    "def menor (lista):\n",
    "    menorvalor = lista[0]\n",
    "    for x in lista:\n",
    "        if x < menorvalor:\n",
    "            menorvalor = x\n",
    "    return menorvalor\n",
    "\n",
    "def maior (lista):\n",
    "    maiorvalor = lista [0] \n",
    "    for y in lista:\n",
    "        if y > maiorvalor:\n",
    "            maiorvalor = y \n",
    "    return maiorvalor\n",
    "\n",
    "def maiorEMenor(lista):\n",
    "    print('maior: ', maior (lista))\n",
    "    print('menor: ', menor (lista))\n",
    "\n",
    "\n",
    "\n",
    "maiorEMenor([4,5,6,2,1,3,])"
   ]
  },
  {
   "cell_type": "code",
   "execution_count": 42,
   "id": "02c18486-56b9-41b5-81f8-1b83accc1ec1",
   "metadata": {},
   "outputs": [
    {
     "ename": "SyntaxError",
     "evalue": "invalid syntax (715375311.py, line 8)",
     "output_type": "error",
     "traceback": [
      "\u001b[1;36m  Cell \u001b[1;32mIn[42], line 8\u001b[1;36m\u001b[0m\n\u001b[1;33m    dobra lencol(200,25)\u001b[0m\n\u001b[1;37m          ^\u001b[0m\n\u001b[1;31mSyntaxError\u001b[0m\u001b[1;31m:\u001b[0m invalid syntax\n"
     ]
    }
   ],
   "source": [
    "def dobralencol(lencol, gaveta):\n",
    "    if lencol < gaveta:\n",
    "        return 0 \n",
    "    else:\n",
    "        return 1 + dobralencol(lencol1/2,gaveta)\n",
    "\n",
    "\n",
    "dobra lencol(200,25)"
   ]
  }
 ],
 "metadata": {
  "kernelspec": {
   "display_name": "Python 3 (ipykernel)",
   "language": "python",
   "name": "python3"
  },
  "language_info": {
   "codemirror_mode": {
    "name": "ipython",
    "version": 3
   },
   "file_extension": ".py",
   "mimetype": "text/x-python",
   "name": "python",
   "nbconvert_exporter": "python",
   "pygments_lexer": "ipython3",
   "version": "3.11.7"
  }
 },
 "nbformat": 4,
 "nbformat_minor": 5
}
