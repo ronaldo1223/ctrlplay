{
 "cells": [
  {
   "cell_type": "code",
   "execution_count": null,
   "id": "21e90fcc-3576-4d5e-8a1c-cc91dcc66d45",
   "metadata": {},
   "outputs": [],
   "source": [
    "class Prova():\n",
    "\n",
    "    def __init__(self):\n",
    "        self.questoes = []\n",
    "        self.resposta=[]\n",
    "\n",
    "    def motra_questoes(self):\n",
    "        print(self.questoes)\n",
    "\n",
    "    def mosrar_resposta(self):\n",
    "        print(self.resposta)\n",
    "\n",
    "    def Armazena_QAuestao_resposta(self, novaQuestao, novaResposta):\n",
    "        self.resposta.append(novaResposta)"
   ]
  }
 ],
 "metadata": {
  "kernelspec": {
   "display_name": "Python 3 (ipykernel)",
   "language": "python",
   "name": "python3"
  },
  "language_info": {
   "codemirror_mode": {
    "name": "ipython",
    "version": 3
   },
   "file_extension": ".py",
   "mimetype": "text/x-python",
   "name": "python",
   "nbconvert_exporter": "python",
   "pygments_lexer": "ipython3",
   "version": "3.11.7"
  }
 },
 "nbformat": 4,
 "nbformat_minor": 5
}
