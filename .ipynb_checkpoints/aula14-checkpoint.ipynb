{
 "cells": [
  {
   "cell_type": "code",
   "execution_count": 4,
   "id": "f96cd575-9d7b-4ba7-b410-db7b120a6d7c",
   "metadata": {},
   "outputs": [
    {
     "name": "stdout",
     "output_type": "stream",
     "text": [
      "Jose dias saraiva\n",
      "jose selva madureira\n"
     ]
    }
   ],
   "source": [
    "def sobrenomeNaOrdem(nome, sobrenome1, sobrenome2):\n",
    "    if len(sobrenome2) > len(sobrenome1):\n",
    "        return '{} {} {}'.format(nome, sobrenome1, sobrenome2)\n",
    "    else:\n",
    "        return '{} {} {}'.format(nome, sobrenome2, sobrenome1)\n",
    "\n",
    "(sobrenomeNaOrdem('Jose','dias','saraiva'))\n",
    "(sobrenomeNaOrdem('jose','madureira','selva'))"
   ]
  },
  {
   "cell_type": "code",
   "execution_count": 18,
   "id": "d9f24626-673e-41de-a475-33264585df05",
   "metadata": {},
   "outputs": [
    {
     "name": "stderr",
     "output_type": "stream",
     "text": [
      ".\n",
      "----------------------------------------------------------------------\n",
      "Ran 1 test in 0.001s\n",
      "\n",
      "OK\n"
     ]
    },
    {
     "data": {
      "text/plain": [
       "<unittest.main.TestProgram at 0x17fca92edd0>"
      ]
     },
     "execution_count": 18,
     "metadata": {},
     "output_type": "execute_result"
    }
   ],
   "source": [
    "import unittest\n",
    "from nome import sobrenomeNaOrdem\n",
    "\n",
    "class NomeTest(unittest.TestCase):\n",
    "    \n",
    "    def test_sobrenomeNaOrdem(self):\n",
    "        nomeCompleto = sobrenomeNaOrdem('ronaldo','vasconcelos','pereira')\n",
    "        self.assertEqual(nomeCompleto, 'ronaldo pereira vasconcelos')\n",
    "\n",
    "unittest.main(argv=[''], exit=False)"
   ]
  },
  {
   "cell_type": "code",
   "execution_count": 22,
   "id": "41588ed1-30e1-4be5-85fb-d680b24e0f9d",
   "metadata": {},
   "outputs": [],
   "source": [
    "class Prova():\n",
    "\n",
    "    def __init__(self):\n",
    "        self.questoes = []\n",
    "        self.resposta=[]\n",
    "\n",
    "    def motra_questoes(self):\n",
    "        print(self.questoes)\n",
    "\n",
    "    def mosrar_resposta(self):\n",
    "        print(self.resposta)\n",
    "\n",
    "    def Armazena_QAuestao_resposta(self, novaQuestao, novaResposta):\n",
    "        self.resposta.append(novaResposta)"
   ]
  },
  {
   "cell_type": "code",
   "execution_count": 31,
   "id": "2999acb0-5012-40ec-9b3f-6c5da809ef46",
   "metadata": {},
   "outputs": [
    {
     "name": "stderr",
     "output_type": "stream",
     "text": [
      ".EE\n",
      "======================================================================\n",
      "ERROR: test_armazenaQuestao (__main__.ProvaTest.test_armazenaQuestao)\n",
      "----------------------------------------------------------------------\n",
      "Traceback (most recent call last):\n",
      "  File \"C:\\Users\\Pichau\\AppData\\Local\\Temp\\ipykernel_7192\\960125911.py\", line 10, in setUp\n",
      "    self.p.armazena_questao_resposta(self.questao, self.resposta)\n",
      "    ^^^^^^^^^^^^^^^^^^^^^^^^^^^^^^^^\n",
      "AttributeError: 'Prova' object has no attribute 'armazena_questao_resposta'\n",
      "\n",
      "======================================================================\n",
      "ERROR: test_armazenaResposta (__main__.ProvaTest.test_armazenaResposta)\n",
      "----------------------------------------------------------------------\n",
      "Traceback (most recent call last):\n",
      "  File \"C:\\Users\\Pichau\\AppData\\Local\\Temp\\ipykernel_7192\\960125911.py\", line 10, in setUp\n",
      "    self.p.armazena_questao_resposta(self.questao, self.resposta)\n",
      "    ^^^^^^^^^^^^^^^^^^^^^^^^^^^^^^^^\n",
      "AttributeError: 'Prova' object has no attribute 'armazena_questao_resposta'\n",
      "\n",
      "----------------------------------------------------------------------\n",
      "Ran 3 tests in 0.004s\n",
      "\n",
      "FAILED (errors=2)\n"
     ]
    },
    {
     "data": {
      "text/plain": [
       "<unittest.main.TestProgram at 0x17fca8fcb10>"
      ]
     },
     "execution_count": 31,
     "metadata": {},
     "output_type": "execute_result"
    }
   ],
   "source": [
    "import unittest \n",
    "from exame import Prova \n",
    "\n",
    "class ProvaTest(unittest.TestCase):\n",
    "\n",
    "    def setUp(self):\n",
    "        self.questao = 'o que aprendem os alunos da ctrl play?'\n",
    "        self.resposta = 'programacao e robotica e muito mais'\n",
    "        self.p = Prova()\n",
    "        self.p.armazena_questao_resposta(self.questao, self.resposta)\n",
    "\n",
    "    def test_armazenaQuestao(self):\n",
    "        self.assertIn('o que aprendem os alunos da ctrl play', self.p.questoes)\n",
    "\n",
    "\n",
    "    def test_armazenaResposta(self):\n",
    "        self.assentIn('programacao e robotica e muito mais', self.p.resposta)\n",
    "\n",
    "\n",
    "unittest.main(argv=[''], exit=False)      "
   ]
  },
  {
   "cell_type": "code",
   "execution_count": 34,
   "id": "df9f5bef-d713-4232-b042-628026050cb8",
   "metadata": {},
   "outputs": [],
   "source": [
    "def soma (a,b):\n",
    "    return a+b\n",
    "\n",
    "def subtracao(a,b):\n",
    "    return a-b\n",
    "\n",
    "def multiplicacao(a,b):\n",
    "    return a*b\n",
    "\n",
    "def divisao(a,b):\n",
    "    return a/b"
   ]
  },
  {
   "cell_type": "code",
   "execution_count": 1,
   "id": "d32b6a0c-1d8b-4d9e-9dac-75c28b801a6d",
   "metadata": {},
   "outputs": [
    {
     "name": "stderr",
     "output_type": "stream",
     "text": [
      "....\n",
      "----------------------------------------------------------------------\n",
      "Ran 4 tests in 0.003s\n",
      "\n",
      "OK\n"
     ]
    },
    {
     "data": {
      "text/plain": [
       "<unittest.main.TestProgram at 0x1fe9f7f9590>"
      ]
     },
     "execution_count": 1,
     "metadata": {},
     "output_type": "execute_result"
    }
   ],
   "source": [
    "import unittest\n",
    "from calculadora import soma, subtracao, multiplicacao, divisao\n",
    "\n",
    "class calculadoraTest(unittest.TestCase):\n",
    "\n",
    "    def testsoma(self):\n",
    "        self.assertEqual(soma(12,2), 14)\n",
    "\n",
    "    def testsubtracao(self):\n",
    "        self.assertEqual(subtracao(12,2), 10)\n",
    "\n",
    "    def testmultiplicacao(self):\n",
    "        self.assertEqual(multiplicacao(12,2), 24)\n",
    "\n",
    "    def testdivisao(self):\n",
    "        self.assertEqual(divisao(12,2),6)\n",
    "\n",
    "unittest.main(argv=[''], exit=False)    \n",
    "        "
   ]
  },
  {
   "cell_type": "code",
   "execution_count": null,
   "id": "d48e7594-c7ad-4864-bd89-bd9d45dd2266",
   "metadata": {},
   "outputs": [],
   "source": []
  }
 ],
 "metadata": {
  "kernelspec": {
   "display_name": "Python 3 (ipykernel)",
   "language": "python",
   "name": "python3"
  },
  "language_info": {
   "codemirror_mode": {
    "name": "ipython",
    "version": 3
   },
   "file_extension": ".py",
   "mimetype": "text/x-python",
   "name": "python",
   "nbconvert_exporter": "python",
   "pygments_lexer": "ipython3",
   "version": "3.11.7"
  }
 },
 "nbformat": 4,
 "nbformat_minor": 5
}
