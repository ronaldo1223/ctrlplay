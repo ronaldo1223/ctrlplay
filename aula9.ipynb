{
 "cells": [
  {
   "cell_type": "code",
   "execution_count": 16,
   "id": "550256c9-160b-4aad-924f-630d9aea4393",
   "metadata": {},
   "outputs": [
    {
     "name": "stdout",
     "output_type": "stream",
     "text": [
      "8.0\n",
      "31\n",
      "3\n",
      "2\n"
     ]
    }
   ],
   "source": [
    "import math \n",
    "\n",
    "print(math.pow(2,3))\n",
    "\n",
    "print(math.isqrt(980))\n",
    "\n",
    "print(math.ceil(2.4))\n",
    "print(math.trunc(2.5))"
   ]
  },
  {
   "cell_type": "code",
   "execution_count": 19,
   "id": "770aa724-29a9-4460-aac8-712b1debd95f",
   "metadata": {},
   "outputs": [
    {
     "name": "stdout",
     "output_type": "stream",
     "text": [
      "o arquivo não existe\n"
     ]
    }
   ],
   "source": [
    "import os \n",
    "if os.path.exists('aula9.txt'):\n",
    "    os.remove('aula9.txt')\n",
    "else:\n",
    "    print('o arquivo não existe')"
   ]
  },
  {
   "cell_type": "code",
   "execution_count": 33,
   "id": "2e569a15-660e-409b-9032-68512e7fbe14",
   "metadata": {},
   "outputs": [
    {
     "name": "stdout",
     "output_type": "stream",
     "text": [
      "a pasta não existe\n"
     ]
    }
   ],
   "source": [
    "import os \n",
    "if os.path.exists('rei delas '):\n",
    "    os.rmdir('rei delas ')\n",
    "else:\n",
    "    print('a pasta não existe')"
   ]
  },
  {
   "cell_type": "code",
   "execution_count": 42,
   "id": "8f914db5-9bc3-4a84-8933-843d2595f86e",
   "metadata": {},
   "outputs": [
    {
     "name": "stdout",
     "output_type": "stream",
     "text": [
      "['__doc__', '__loader__', '__name__', '__package__', '__spec__', 'acos', 'acosh', 'asin', 'asinh', 'atan', 'atan2', 'atanh', 'cbrt', 'ceil', 'comb', 'copysign', 'cos', 'cosh', 'degrees', 'dist', 'e', 'erf', 'erfc', 'exp', 'exp2', 'expm1', 'fabs', 'factorial', 'floor', 'fmod', 'frexp', 'fsum', 'gamma', 'gcd', 'hypot', 'inf', 'isclose', 'isfinite', 'isinf', 'isnan', 'isqrt', 'lcm', 'ldexp', 'lgamma', 'log', 'log10', 'log1p', 'log2', 'modf', 'nan', 'nextafter', 'perm', 'pi', 'pow', 'prod', 'radians', 'remainder', 'sin', 'sinh', 'sqrt', 'tan', 'tanh', 'tau', 'trunc', 'ulp']\n",
      "999\n",
      "Help on built-in function hypot in module math:\n",
      "\n",
      "hypot(...)\n",
      "    hypot(*coordinates) -> value\n",
      "    \n",
      "    Multidimensional Euclidean distance from the origin to a point.\n",
      "    \n",
      "    Roughly equivalent to:\n",
      "        sqrt(sum(x**2 for x in coordinates))\n",
      "    \n",
      "    For a two dimensional point (x, y), gives the hypotenuse\n",
      "    using the Pythagorean theorem:  sqrt(x*x + y*y).\n",
      "    \n",
      "    For example, the hypotenuse of a 3/4/5 right triangle is:\n",
      "    \n",
      "        >>> hypot(3.0, 4.0)\n",
      "        5.0\n",
      "\n"
     ]
    }
   ],
   "source": [
    "import math\n",
    "\n",
    "print(dir(math))\n",
    "\n",
    "\n",
    "print(math.floor(999))\n",
    "\n",
    "help(math.hypot)\n",
    "\n"
   ]
  },
  {
   "cell_type": "code",
   "execution_count": 43,
   "id": "6b017391-4430-415d-868e-0ae9e8ad15bf",
   "metadata": {},
   "outputs": [
    {
     "name": "stdout",
     "output_type": "stream",
     "text": [
      "5.0\n"
     ]
    }
   ],
   "source": [
    "import math\n",
    "print(math.hypot(3.0, 4.0))"
   ]
  },
  {
   "cell_type": "code",
   "execution_count": 12,
   "id": "eb1a9328-c6f1-4096-8305-b149f220fa6b",
   "metadata": {},
   "outputs": [
    {
     "name": "stdout",
     "output_type": "stream",
     "text": [
      "40\n",
      "20\n"
     ]
    }
   ],
   "source": [
    "import calculadora \n",
    "\n",
    "print(calculadora.soma(30,10))\n",
    "\n",
    "print(calculadora.subtracao(30,10))"
   ]
  },
  {
   "cell_type": "code",
   "execution_count": 1,
   "id": "ad096bbb-d6e8-4082-ac2e-4fbaefd42f70",
   "metadata": {},
   "outputs": [
    {
     "name": "stdout",
     "output_type": "stream",
     "text": [
      "314.0\n"
     ]
    }
   ],
   "source": [
    "import matematica.geometria \n",
    "\n",
    "print(matematica.geometria.areadocirculo(10))"
   ]
  },
  {
   "cell_type": "code",
   "execution_count": 2,
   "id": "28fe7a23-e334-49fa-936c-ea101781610f",
   "metadata": {},
   "outputs": [
    {
     "data": {
      "text/plain": [
       "314.0"
      ]
     },
     "execution_count": 2,
     "metadata": {},
     "output_type": "execute_result"
    }
   ],
   "source": [
    "from matematica import geometria as g \n",
    "g.areadocirculo(10)"
   ]
  },
  {
   "cell_type": "code",
   "execution_count": 27,
   "id": "b07af73d-f59d-4b46-97c9-e9ca31ab6baa",
   "metadata": {},
   "outputs": [
    {
     "name": "stdin",
     "output_type": "stream",
     "text": [
      " 1\n",
      " 2\n",
      " 3\n",
      " 4\n",
      " 5\n"
     ]
    },
    {
     "name": "stdout",
     "output_type": "stream",
     "text": [
      "2 valores pares\n"
     ]
    }
   ],
   "source": [
    "tot_par = 0 \n",
    "for cont in range(0,5):\n",
    "    num = int(input())\n",
    "    if num % 2 == 0:\n",
    "        tot_par = tot_par +1 \n",
    "print('{} valores pares'.format(tot_par))"
   ]
  },
  {
   "cell_type": "code",
   "execution_count": null,
   "id": "ac37eca2-01a5-4d05-94a4-6c43725c324c",
   "metadata": {},
   "outputs": [],
   "source": []
  },
  {
   "cell_type": "code",
   "execution_count": null,
   "id": "642ec2a6-83fc-413e-b59a-651bc7776339",
   "metadata": {},
   "outputs": [],
   "source": []
  }
 ],
 "metadata": {
  "kernelspec": {
   "display_name": "Python 3 (ipykernel)",
   "language": "python",
   "name": "python3"
  },
  "language_info": {
   "codemirror_mode": {
    "name": "ipython",
    "version": 3
   },
   "file_extension": ".py",
   "mimetype": "text/x-python",
   "name": "python",
   "nbconvert_exporter": "python",
   "pygments_lexer": "ipython3",
   "version": "3.11.7"
  }
 },
 "nbformat": 4,
 "nbformat_minor": 5
}
