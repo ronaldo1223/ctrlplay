{
 "cells": [
  {
   "cell_type": "code",
   "execution_count": 11,
   "id": "ba772393-0b54-499e-9023-dc83ae265402",
   "metadata": {},
   "outputs": [
    {
     "name": "stdout",
     "output_type": "stream",
     "text": [
      "SKAUL05\n",
      "Github\n"
     ]
    }
   ],
   "source": [
    "class Modifiers ():\n",
    "\n",
    "    def __init__(self,name):\n",
    "        self.public_member = name\n",
    "\n",
    "mod = Modifiers(\"SKAUL05\")\n",
    "print(mod.public_member) # Acessando o Atributo Público da classse Modifiers\n",
    "mod.public_member = \"Github\" #Changing it's value\n",
    "print(mod.public_member)        "
   ]
  },
  {
   "cell_type": "code",
   "execution_count": 42,
   "id": "409a3275-d6c1-4d6e-9126-ed062372061c",
   "metadata": {},
   "outputs": [
    {
     "name": "stdout",
     "output_type": "stream",
     "text": [
      "100\n",
      "35\n",
      "25\n",
      "100\n"
     ]
    },
    {
     "name": "stdin",
     "output_type": "stream",
     "text": [
      "digite a senha 12345\n"
     ]
    },
    {
     "name": "stdout",
     "output_type": "stream",
     "text": [
      "senha invalida\n"
     ]
    },
    {
     "name": "stdin",
     "output_type": "stream",
     "text": [
      "digite novamente 1234\n"
     ]
    },
    {
     "name": "stdout",
     "output_type": "stream",
     "text": [
      "35\n"
     ]
    }
   ],
   "source": [
    "class jogador ():\n",
    "    vida = 100 # atributo publico \n",
    "    __ataque = 35 # atributi privado a classe jogador\n",
    "    __defesa = 25 # atibuto privado a classe jogador \n",
    "\n",
    "    def __init__(self):\n",
    "        print(self.vida)\n",
    "        print(self.__ataque)\n",
    "        print(self.__defesa)\n",
    "    def setAtaque(self,a):\n",
    "        selfataque = a\n",
    "\n",
    "    def getAtaque(self):\n",
    "        return self.__ataque \n",
    "\n",
    "jogador = jogador()\n",
    "print(jogador.vida)\n",
    "senha = '1234'\n",
    "senha =input('digite a senha')\n",
    "while senha!= '1234':\n",
    "    print('senha invalida')\n",
    "    senha = input('digite novamente')\n",
    "jogador.setAtaque(40)\n",
    "print(jogador.getAtaque())\n"
   ]
  },
  {
   "cell_type": "code",
   "execution_count": 53,
   "id": "8d0f28c1-7fa3-42b1-9cb3-f43c7d0f12ae",
   "metadata": {},
   "outputs": [
    {
     "name": "stdout",
     "output_type": "stream",
     "text": [
      "skate 8kg andar\n",
      "carro corre\n",
      "avião 50 ton voa\n"
     ]
    }
   ],
   "source": [
    "class MeioTransporte ():\n",
    "\n",
    "    def __init__(self, tipo, peso):\n",
    "        self.tipo = tipo\n",
    "        self.peso = peso\n",
    "\n",
    "    def mover(self):\n",
    "        pass\n",
    "\n",
    "class rodoviario(MeioTransporte):\n",
    "\n",
    "    def mover(self):\n",
    "        return 'corre'\n",
    "\n",
    "class aereo(MeioTransporte):\n",
    "\n",
    "    def mover(self):\n",
    "         return  'voa'\n",
    "\n",
    "class skate(MeioTransporte):\n",
    "\n",
    "    def mover(self):\n",
    "        return 'andar'\n",
    "\n",
    "s = skate ('skate', '8kg')\n",
    "print(s.tipo, s.peso, s.mover())   \n",
    "\n",
    "c = rodoviario('carro', '1ton' )\n",
    "print (c. tipo, c.mover())\n",
    "\n",
    "a = aereo('avião', '50 ton')\n",
    "print(a.tipo, a.peso, a.mover())"
   ]
  },
  {
   "cell_type": "code",
   "execution_count": 62,
   "id": "6feda30f-3f9d-438f-9fbd-bedbd6b42e3e",
   "metadata": {},
   "outputs": [
    {
     "name": "stdout",
     "output_type": "stream",
     "text": [
      "saldo final = 1020\n"
     ]
    }
   ],
   "source": [
    "class Banco():\n",
    "\n",
    "    def __init__(self, nome, saldo_inicial):\n",
    "        self.nome = nome\n",
    "        self.Saldo = saldo_inicial\n",
    "\n",
    "    def enviarPix(self):\n",
    "        pix = float(input('valor do pix'))\n",
    "        self.Saldo = self.Saldo - pix\n",
    "\n",
    "    def getSaldo(self):\n",
    "        return self.Saldo\n",
    "\n",
    "k1 = Banco('mascos',1020)\n",
    "print('saldo final = {}'.format(k1.getSaldo()))"
   ]
  },
  {
   "cell_type": "code",
   "execution_count": 4,
   "id": "f9edd28f-0f73-401a-b8f7-09f933d0415e",
   "metadata": {},
   "outputs": [
    {
     "name": "stdin",
     "output_type": "stream",
     "text": [
      " [vertebrado ou invertebrado]:  invertebrado\n",
      "[ave, mamifero, inseto, anelideo]:  anelideo\n",
      "[carnivoro, onivoro hematofogo, herbivoro]:  onivoro\n"
     ]
    },
    {
     "name": "stdout",
     "output_type": "stream",
     "text": [
      "minhoca\n"
     ]
    }
   ],
   "source": [
    "# Desafio Animal Beecrowd 1049 Tarefa\n",
    "\n",
    "# Filo: vertebrado ou invertebrado\n",
    "# Classificacao: ave, mamifero, inseto, anelideo\n",
    "# Ordem: carnivoro, onivoro hematofogo, herbivoro\n",
    "\n",
    "class Animal():\n",
    "    \n",
    "    def __init__(self, filo, classificacao, ordem):\n",
    "        self.filo = filo\n",
    "        self.classificacao = classificacao\n",
    "        self.ordem = ordem\n",
    "    \n",
    "    def conclusao(self):\n",
    "        pass\n",
    "                    \n",
    "class Vertebrado(Animal): # Herança\n",
    "    \n",
    "    def __init__(self, filo, classificacao, ordem):\n",
    "        super().__init__(filo, classificacao, ordem)\n",
    "        \n",
    "    def conclusao(self):\n",
    "        if self.classificacao == 'ave':\n",
    "            if self.ordem == 'carnivoro':\n",
    "                print('aguia')\n",
    "            if self.ordem == 'onivoro':\n",
    "                print('pomba')\n",
    "\n",
    "        if self.classificacao == 'mamifero':\n",
    "            if self.ordem == 'onivoro':\n",
    "                print('homem')\n",
    "            if self.ordem == 'herbivoro':\n",
    "                print('vaca')\n",
    "        \n",
    "class Invertebrado(Animal): # Herança e Polimorfismo\n",
    "    \n",
    "    def __init__(self, filo, classicacao, ordem):\n",
    "        super().__init__(filo, classificacao, ordem)\n",
    "\n",
    "    def conclusao(self):\n",
    "        if self.classificacao == 'inseto':\n",
    "            if self.ordem == 'hematofolo':\n",
    "                print('pulga')\n",
    "            if self.ordem == 'herbivoro':\n",
    "                print('lagarto')\n",
    "\n",
    "        if self.classificacao == 'anelideo':\n",
    "            if self.ordem == 'hematofogo':\n",
    "                print('sanguessuga')\n",
    "            if self.ordem == 'onivoro':\n",
    "                print('minhoca')\n",
    "\n",
    "# Programa Principal\n",
    "filo = input(' [vertebrado ou invertebrado]: ')\n",
    "classificacao = input('[ave, mamifero, inseto, anelideo]: ')\n",
    "ordem = input('[carnivoro, onivoro hematofogo, herbivoro]: ')\n",
    "\n",
    "animal1 = Animal(filo, classificacao, ordem)\n",
    "if filo == 'vertebrado':\n",
    "    animal1 = Vertebrado(filo, classificacao, ordem)\n",
    "    animal1.conclusao()\n",
    "else:\n",
    "    animal1 = Invertebrado(filo, classificacao, ordem)\n",
    "    animal1.conclusao()"
   ]
  },
  {
   "cell_type": "code",
   "execution_count": null,
   "id": "d1b2ab16-8bd5-433e-b56b-a34370d5eff2",
   "metadata": {},
   "outputs": [],
   "source": []
  }
 ],
 "metadata": {
  "kernelspec": {
   "display_name": "Python 3 (ipykernel)",
   "language": "python",
   "name": "python3"
  },
  "language_info": {
   "codemirror_mode": {
    "name": "ipython",
    "version": 3
   },
   "file_extension": ".py",
   "mimetype": "text/x-python",
   "name": "python",
   "nbconvert_exporter": "python",
   "pygments_lexer": "ipython3",
   "version": "3.11.7"
  }
 },
 "nbformat": 4,
 "nbformat_minor": 5
}
