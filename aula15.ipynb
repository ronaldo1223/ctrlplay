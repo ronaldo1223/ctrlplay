{
 "cells": [
  {
   "cell_type": "code",
   "execution_count": 1,
   "id": "42064f0b-b73a-4279-a6f0-a3a23741bbdf",
   "metadata": {},
   "outputs": [
    {
     "name": "stdin",
     "output_type": "stream",
     "text": [
      " \n"
     ]
    },
    {
     "ename": "ValueError",
     "evalue": "invalid literal for int() with base 10: ''",
     "output_type": "error",
     "traceback": [
      "\u001b[1;31m---------------------------------------------------------------------------\u001b[0m",
      "\u001b[1;31mValueError\u001b[0m                                Traceback (most recent call last)",
      "Cell \u001b[1;32mIn[1], line 1\u001b[0m\n\u001b[1;32m----> 1\u001b[0m num \u001b[38;5;241m=\u001b[39m \u001b[38;5;28mint\u001b[39m(\u001b[38;5;28minput\u001b[39m())\n\u001b[0;32m      2\u001b[0m \u001b[38;5;28mprint\u001b[39m(num)\n",
      "\u001b[1;31mValueError\u001b[0m: invalid literal for int() with base 10: ''"
     ]
    }
   ],
   "source": [
    "num = int(input())\n",
    "print(num)"
   ]
  },
  {
   "cell_type": "code",
   "execution_count": 2,
   "id": "0e5ef558-a169-4deb-aed3-b254985c51c7",
   "metadata": {},
   "outputs": [
    {
     "ename": "SyntaxError",
     "evalue": "unterminated string literal (detected at line 1) (3896384642.py, line 1)",
     "output_type": "error",
     "traceback": [
      "\u001b[1;36m  Cell \u001b[1;32mIn[2], line 1\u001b[1;36m\u001b[0m\n\u001b[1;33m    print('crlt play)\u001b[0m\n\u001b[1;37m          ^\u001b[0m\n\u001b[1;31mSyntaxError\u001b[0m\u001b[1;31m:\u001b[0m unterminated string literal (detected at line 1)\n"
     ]
    }
   ],
   "source": [
    "print('crlt play)"
   ]
  },
  {
   "cell_type": "code",
   "execution_count": 5,
   "id": "2b7c3ff6-1d50-479f-9be5-36a3aa3b4d98",
   "metadata": {},
   "outputs": [
    {
     "name": "stdin",
     "output_type": "stream",
     "text": [
      "digete um numero 2\n",
      "digete um numero 0\n"
     ]
    },
    {
     "ename": "ZeroDivisionError",
     "evalue": "division by zero",
     "output_type": "error",
     "traceback": [
      "\u001b[1;31m---------------------------------------------------------------------------\u001b[0m",
      "\u001b[1;31mZeroDivisionError\u001b[0m                         Traceback (most recent call last)",
      "Cell \u001b[1;32mIn[5], line 4\u001b[0m\n\u001b[0;32m      1\u001b[0m h \u001b[38;5;241m=\u001b[39m \u001b[38;5;28mint\u001b[39m(\u001b[38;5;28minput\u001b[39m(\u001b[38;5;124m'\u001b[39m\u001b[38;5;124mdigete um numero\u001b[39m\u001b[38;5;124m'\u001b[39m))\n\u001b[0;32m      2\u001b[0m r \u001b[38;5;241m=\u001b[39m \u001b[38;5;28mint\u001b[39m(\u001b[38;5;28minput\u001b[39m(\u001b[38;5;124m'\u001b[39m\u001b[38;5;124mdigete um numero\u001b[39m\u001b[38;5;124m'\u001b[39m))\n\u001b[1;32m----> 4\u001b[0m \u001b[38;5;28mprint\u001b[39m(h\u001b[38;5;241m/\u001b[39mr)\n",
      "\u001b[1;31mZeroDivisionError\u001b[0m: division by zero"
     ]
    }
   ],
   "source": [
    "h = int(input('digete um numero'))\n",
    "r = int(input('digete um numero'))\n",
    "\n",
    "print(h/r)"
   ]
  },
  {
   "cell_type": "code",
   "execution_count": 37,
   "id": "f0dcfedf-90ec-425a-af99-d7e6ff88eff0",
   "metadata": {},
   "outputs": [
    {
     "name": "stdout",
     "output_type": "stream",
     "text": [
      "aparentemente voce digitou zero\n"
     ]
    }
   ],
   "source": [
    "try:\n",
    "    h = int(input('digete um numero'))\n",
    "    r = int(input('digete um numero'))\n",
    "\n",
    "    print(h/r)\n",
    "except:\n",
    "    \n",
    "    print('aparentemente voce digitou zero')\n",
    "else:\n",
    "\n",
    "    print('voce digitou certo')"
   ]
  },
  {
   "cell_type": "code",
   "execution_count": 13,
   "id": "d116fbce-2c71-4a41-b248-f9971600e924",
   "metadata": {},
   "outputs": [
    {
     "name": "stdout",
     "output_type": "stream",
     "text": [
      "texto escrito com sucesso\n"
     ]
    }
   ],
   "source": [
    "try:\n",
    "    f = open('arquivo.txt','w')\n",
    "    f.write('tente escrever isto')\n",
    "\n",
    "except: \n",
    "    print('nao foi possivel localizar o arquivo')\n",
    "\n",
    "else:\n",
    "\n",
    "    print('texto escrito com sucesso')\n",
    "    f.close()"
   ]
  },
  {
   "cell_type": "code",
   "execution_count": 14,
   "id": "c9aad575-a2da-4979-8bff-09842e39301f",
   "metadata": {},
   "outputs": [
    {
     "name": "stdout",
     "output_type": "stream",
     "text": [
      "nao foi possivel localizar o arquivo\n"
     ]
    }
   ],
   "source": [
    "try:\n",
    "    f = open('arquivo.txt','r')\n",
    "    f.write('tente escrever isto')\n",
    "\n",
    "except: \n",
    "    print('nao foi possivel localizar o arquivo')\n",
    "\n",
    "else:\n",
    "\n",
    "    print('texto escrito com sucesso')\n",
    "    f.close()"
   ]
  },
  {
   "cell_type": "code",
   "execution_count": 15,
   "id": "4ecb7963-2fa9-434d-8992-f9d3efcd7eb3",
   "metadata": {},
   "outputs": [
    {
     "name": "stdout",
     "output_type": "stream",
     "text": [
      "texto escrito com sucesso\n",
      "obrigado por usar nosso sistema\n"
     ]
    }
   ],
   "source": [
    "try:\n",
    "    f = open('arquivo.txt','w')\n",
    "    f.write('tente escrever isto')\n",
    "\n",
    "except: \n",
    "    print('nao foi possivel localizar o arquivo')\n",
    "\n",
    "else:\n",
    "\n",
    "    print('texto escrito com sucesso')\n",
    "    f.close()\n",
    "finally:\n",
    "    print('obrigado por usar nosso sistema')"
   ]
  },
  {
   "cell_type": "code",
   "execution_count": 18,
   "id": "8f5de931-9e51-4412-b91b-c0078cc4ece3",
   "metadata": {},
   "outputs": [
    {
     "name": "stdin",
     "output_type": "stream",
     "text": [
      "digite um numero inteiro:  s\n"
     ]
    },
    {
     "name": "stdout",
     "output_type": "stream",
     "text": [
      "parece que voce nao digitou um numero inteiro\n",
      "tentativa numero: 1\n"
     ]
    },
    {
     "name": "stdin",
     "output_type": "stream",
     "text": [
      "digite um numero inteiro:  se\n"
     ]
    },
    {
     "name": "stdout",
     "output_type": "stream",
     "text": [
      "parece que voce nao digitou um numero inteiro\n",
      "tentativa numero: 2\n"
     ]
    },
    {
     "name": "stdin",
     "output_type": "stream",
     "text": [
      "digite um numero inteiro:  se\n"
     ]
    },
    {
     "name": "stdout",
     "output_type": "stream",
     "text": [
      "parece que voce nao digitou um numero inteiro\n",
      "tentativa numero: 3\n"
     ]
    },
    {
     "name": "stdin",
     "output_type": "stream",
     "text": [
      "digite um numero inteiro:  2\n"
     ]
    },
    {
     "name": "stdout",
     "output_type": "stream",
     "text": [
      "muito bem\n",
      "tentativa numero: 4\n",
      "2\n"
     ]
    }
   ],
   "source": [
    "def pergunta_Numero():\n",
    "    numero = 1\n",
    "    while True:\n",
    "        try:\n",
    "    \n",
    "            val = int(input('digite um numero inteiro: '))\n",
    "        except:\n",
    "            print('parece que voce nao digitou um numero inteiro')\n",
    "            continue \n",
    "        else:\n",
    "            print('muito bem')\n",
    "            break\n",
    "        finally:\n",
    "            print('tentativa numero: {}'.format(numero))\n",
    "            numero += 1\n",
    "    print(val)\n",
    "\n",
    "pergunta_Numero()          \n",
    "    "
   ]
  },
  {
   "cell_type": "code",
   "execution_count": 35,
   "id": "8f2867c9-e1f8-4e05-a48e-9c0d32362ba3",
   "metadata": {},
   "outputs": [
    {
     "name": "stdin",
     "output_type": "stream",
     "text": [
      " 5\n"
     ]
    },
    {
     "name": "stdout",
     "output_type": "stream",
     "text": [
      " 1 1 1\n",
      " 2 4 8\n",
      " 3 9 27\n",
      " 4 16 64\n",
      " 5 25 125\n"
     ]
    }
   ],
   "source": [
    "try: \n",
    " val = int(input(''))\n",
    "\n",
    "except:\n",
    "    print('parece que ocorreu um erro')\n",
    "    \n",
    "\n",
    "else:\n",
    "    for num  in range (1,val+1):\n",
    "\n",
    "        print(' {} {} {}'.format(num,num**2,num**3))"
   ]
  },
  {
   "cell_type": "code",
   "execution_count": 38,
   "id": "6ff39e19-2ba4-40ac-bd17-3f4d4a5f5a62",
   "metadata": {},
   "outputs": [
    {
     "name": "stdin",
     "output_type": "stream",
     "text": [
      " 1\n"
     ]
    },
    {
     "name": "stdout",
     "output_type": "stream",
     "text": [
      "Senha invalida\n"
     ]
    },
    {
     "name": "stdin",
     "output_type": "stream",
     "text": [
      " d\n"
     ]
    },
    {
     "name": "stdout",
     "output_type": "stream",
     "text": [
      "Senha invalida\n"
     ]
    },
    {
     "name": "stdin",
     "output_type": "stream",
     "text": [
      " 2002\n"
     ]
    },
    {
     "name": "stdout",
     "output_type": "stream",
     "text": [
      "Acesso Permitido\n"
     ]
    }
   ],
   "source": [
    "def pergunta_Senha ():\n",
    "    \n",
    "    senha_gravada = 2002\n",
    "    while True:\n",
    "        try:\n",
    "            acesso = int(input())\n",
    "        except:\n",
    "            print('Senha invalida') \n",
    "        else:\n",
    "            if acesso == senha_gravada:\n",
    "                print ('Acesso Permitido')\n",
    "                break\n",
    "            else:\n",
    "                print('Senha invalida')\n",
    "\n",
    "        \n",
    "pergunta_Senha()          "
   ]
  },
  {
   "cell_type": "code",
   "execution_count": null,
   "id": "6905bb8d-85ad-4d1a-b8a6-271fe58a24e2",
   "metadata": {},
   "outputs": [],
   "source": []
  }
 ],
 "metadata": {
  "kernelspec": {
   "display_name": "Python 3 (ipykernel)",
   "language": "python",
   "name": "python3"
  },
  "language_info": {
   "codemirror_mode": {
    "name": "ipython",
    "version": 3
   },
   "file_extension": ".py",
   "mimetype": "text/x-python",
   "name": "python",
   "nbconvert_exporter": "python",
   "pygments_lexer": "ipython3",
   "version": "3.11.7"
  }
 },
 "nbformat": 4,
 "nbformat_minor": 5
}
