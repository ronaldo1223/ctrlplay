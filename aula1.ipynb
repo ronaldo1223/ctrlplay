{
 "cells": [
  {
   "cell_type": "code",
   "execution_count": 32,
   "id": "b766ad20-a8f9-41d8-b962-27ed72a91be1",
   "metadata": {},
   "outputs": [
    {
     "name": "stdout",
     "output_type": "stream",
     "text": [
      "o perimetro do quadrado é igual a 24\n",
      "a area do quadrado é igual a 36\n"
     ]
    }
   ],
   "source": [
    "#Este programa é da primeira aula quadrado \n",
    "lado=6\n",
    "p_quadrado= lado * 4\n",
    "print(\"o perimetro do quadrado é igual a {}\".format(p_quadrado))\n",
    "a_quadrado = lado * lado\n",
    "print( 'a area do quadrado é igual a {}'.format(a_quadrado))\n",
    "#Linha adicionada no vscode\n"
   ]
  },
  {
   "cell_type": "code",
   "execution_count": 38,
   "id": "4876599d-ac09-44bf-8722-f8c4f8264025",
   "metadata": {},
   "outputs": [
    {
     "name": "stdout",
     "output_type": "stream",
     "text": [
      "o perimetro do retangulo é igual a 30\n",
      " a area do retangulo é igual a 50\n"
     ]
    }
   ],
   "source": [
    "#retangulo \n",
    "lado1=5\n",
    "lado2=10\n",
    "p_retangulo= 2 * lado1 + 2 * lado2 \n",
    "print('o perimetro do retangulo é igual a {}'.format(p_retangulo))\n",
    "a_retangulo = lado1*lado2\n",
    "print(' a area do retangulo é igual a {}'.format(a_retangulo))"
   ]
  }
 ],
 "metadata": {
  "kernelspec": {
   "display_name": "Python 3 (ipykernel)",
   "language": "python",
   "name": "python3"
  },
  "language_info": {
   "codemirror_mode": {
    "name": "ipython",
    "version": 3
   },
   "file_extension": ".py",
   "mimetype": "text/x-python",
   "name": "python",
   "nbconvert_exporter": "python",
   "pygments_lexer": "ipython3",
   "version": "3.11.7"
  }
 },
 "nbformat": 4,
 "nbformat_minor": 5
}
