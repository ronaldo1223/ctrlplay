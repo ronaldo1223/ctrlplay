{
 "cells": [
  {
   "cell_type": "code",
   "execution_count": 9,
   "id": "4e737ce0-748d-49a2-b2dc-37eacf2529a1",
   "metadata": {},
   "outputs": [],
   "source": [
    "class casa ():\n",
    "    rua = 'avenida winston churchill' \n",
    "    bairro = ' capão raso'\n",
    "    cep = ' 81130-000'\n",
    "\n",
    "    def enderecocompleto(self):\n",
    "        return ' endereço completo: {}, {} - cep: {}'. format(self.rua, self.bairro, self.cep)\n",
    "\n",
    "casa1 = casa() \n"
   ]
  },
  {
   "cell_type": "code",
   "execution_count": 55,
   "id": "b66d334d-b9ba-4814-a32e-b8b27f32b064",
   "metadata": {},
   "outputs": [
    {
     "name": "stdin",
     "output_type": "stream",
     "text": [
      "qual o nome do seu personagem? cavaleiro\n"
     ]
    },
    {
     "name": "stdout",
     "output_type": "stream",
     "text": [
      "bem vindo, cavaleiro. voce entrou no calabouço!\n",
      "\n",
      "            [1] mover-se para a proxima sala\n",
      "            [2] mostrar seu status \n",
      "            [3] procura itens dentro do calabouço \n",
      "            [4] sair do calabouço\n",
      "            \n"
     ]
    },
    {
     "name": "stdin",
     "output_type": "stream",
     "text": [
      "qual sua opção 3\n"
     ]
    },
    {
     "name": "stdout",
     "output_type": "stream",
     "text": [
      "voce pegou o poçao de vida\n",
      "\n",
      "            [1] mover-se para a proxima sala\n",
      "            [2] mostrar seu status \n",
      "            [3] procura itens dentro do calabouço \n",
      "            [4] sair do calabouço\n",
      "            \n"
     ]
    },
    {
     "name": "stdin",
     "output_type": "stream",
     "text": [
      "qual sua opção 2\n"
     ]
    },
    {
     "name": "stdout",
     "output_type": "stream",
     "text": [
      "==================================================\n",
      "estatus do jogador\n",
      "==================================================\n",
      "nome: cavaleiro\n",
      "vida: 50\n",
      "ataque: 10\n",
      "defesa: 11\n",
      "itens: ['poçao de vida']\n",
      "\n",
      "            [1] mover-se para a proxima sala\n",
      "            [2] mostrar seu status \n",
      "            [3] procura itens dentro do calabouço \n",
      "            [4] sair do calabouço\n",
      "            \n"
     ]
    },
    {
     "name": "stdin",
     "output_type": "stream",
     "text": [
      "qual sua opção 1\n"
     ]
    },
    {
     "name": "stdout",
     "output_type": "stream",
     "text": [
      "\n",
      "            [1] massacrar \n",
      "            [2] fugir \n",
      "            \n"
     ]
    },
    {
     "name": "stdin",
     "output_type": "stream",
     "text": [
      "qual a sua esolha? tik tak escole rapido 1\n"
     ]
    },
    {
     "name": "stdout",
     "output_type": "stream",
     "text": [
      "cavaleiro causou 2 de dano\n",
      "esqueleto causou 0 de dano\n",
      "\n",
      "            [1] massacrar \n",
      "            [2] fugir \n",
      "            \n"
     ]
    },
    {
     "name": "stdin",
     "output_type": "stream",
     "text": [
      "qual a sua esolha? tik tak escole rapido 1\n"
     ]
    },
    {
     "name": "stdout",
     "output_type": "stream",
     "text": [
      "cavaleiro causou 2 de dano\n",
      "esqueleto causou 0 de dano\n",
      "\n",
      "            [1] massacrar \n",
      "            [2] fugir \n",
      "            \n"
     ]
    },
    {
     "name": "stdin",
     "output_type": "stream",
     "text": [
      "qual a sua esolha? tik tak escole rapido 1\n"
     ]
    },
    {
     "name": "stdout",
     "output_type": "stream",
     "text": [
      "cavaleiro causou 2 de dano\n",
      "esqueleto causou 0 de dano\n",
      "\n",
      "            [1] massacrar \n",
      "            [2] fugir \n",
      "            \n"
     ]
    },
    {
     "name": "stdin",
     "output_type": "stream",
     "text": [
      "qual a sua esolha? tik tak escole rapido 1\n"
     ]
    },
    {
     "name": "stdout",
     "output_type": "stream",
     "text": [
      "cavaleiro causou 2 de dano\n",
      "esqueleto causou 0 de dano\n",
      "\n",
      "            [1] massacrar \n",
      "            [2] fugir \n",
      "            \n"
     ]
    },
    {
     "ename": "KeyboardInterrupt",
     "evalue": "Interrupted by user",
     "output_type": "error",
     "traceback": [
      "\u001b[1;31m---------------------------------------------------------------------------\u001b[0m",
      "\u001b[1;31mKeyboardInterrupt\u001b[0m                         Traceback (most recent call last)",
      "Cell \u001b[1;32mIn[55], line 113\u001b[0m\n\u001b[0;32m    109\u001b[0m inimigos \u001b[38;5;241m=\u001b[39m [Inimigo(\u001b[38;5;124m'\u001b[39m\u001b[38;5;124mogro\u001b[39m\u001b[38;5;124m'\u001b[39m, \u001b[38;5;241m20\u001b[39m,\u001b[38;5;241m17\u001b[39m,\u001b[38;5;241m9\u001b[39m), Inimigo(\u001b[38;5;124m'\u001b[39m\u001b[38;5;124mesqueleto\u001b[39m\u001b[38;5;124m'\u001b[39m,\u001b[38;5;241m15\u001b[39m,\u001b[38;5;241m9\u001b[39m,\u001b[38;5;241m8\u001b[39m), Inimigo(\u001b[38;5;124m'\u001b[39m\u001b[38;5;124mcoblin\u001b[39m\u001b[38;5;124m'\u001b[39m,\u001b[38;5;241m10\u001b[39m,\u001b[38;5;241m12\u001b[39m,\u001b[38;5;241m7\u001b[39m)]\n\u001b[0;32m    112\u001b[0m jogo \u001b[38;5;241m=\u001b[39m Calabouço(jogador, inimigos)\n\u001b[1;32m--> 113\u001b[0m jogo\u001b[38;5;241m.\u001b[39mjogar()\n",
      "Cell \u001b[1;32mIn[55], line 59\u001b[0m, in \u001b[0;36mCalabouço.jogar\u001b[1;34m(self)\u001b[0m\n\u001b[0;32m     57\u001b[0m opcao \u001b[38;5;241m=\u001b[39m \u001b[38;5;28minput\u001b[39m(\u001b[38;5;124m'\u001b[39m\u001b[38;5;124mqual sua opção\u001b[39m\u001b[38;5;124m'\u001b[39m)\n\u001b[0;32m     58\u001b[0m \u001b[38;5;28;01mif\u001b[39;00m opcao \u001b[38;5;241m==\u001b[39m \u001b[38;5;124m'\u001b[39m\u001b[38;5;124m1\u001b[39m\u001b[38;5;124m'\u001b[39m:\n\u001b[1;32m---> 59\u001b[0m     \u001b[38;5;28mself\u001b[39m\u001b[38;5;241m.\u001b[39menfrentarInimigo()\n\u001b[0;32m     60\u001b[0m \u001b[38;5;28;01melif\u001b[39;00m opcao \u001b[38;5;241m==\u001b[39m \u001b[38;5;124m'\u001b[39m\u001b[38;5;124m2\u001b[39m\u001b[38;5;124m'\u001b[39m:\n\u001b[0;32m     61\u001b[0m     \u001b[38;5;28mself\u001b[39m\u001b[38;5;241m.\u001b[39mjogador\u001b[38;5;241m.\u001b[39mmostrarStatus()\n",
      "Cell \u001b[1;32mIn[55], line 74\u001b[0m, in \u001b[0;36mCalabouço.enfrentarInimigo\u001b[1;34m(self)\u001b[0m\n\u001b[0;32m     69\u001b[0m \u001b[38;5;28;01mwhile\u001b[39;00m \u001b[38;5;28mself\u001b[39m\u001b[38;5;241m.\u001b[39mjogador\u001b[38;5;241m.\u001b[39mvida \u001b[38;5;241m>\u001b[39m \u001b[38;5;241m0\u001b[39m \u001b[38;5;129;01mand\u001b[39;00m \u001b[38;5;28mself\u001b[39m\u001b[38;5;241m.\u001b[39minimigo\u001b[38;5;241m.\u001b[39mvida \u001b[38;5;241m>\u001b[39m \u001b[38;5;241m0\u001b[39m:\n\u001b[0;32m     70\u001b[0m     \u001b[38;5;28mprint\u001b[39m(\u001b[38;5;124m'''\u001b[39m\n\u001b[0;32m     71\u001b[0m \u001b[38;5;124m    [1] massacrar \u001b[39m\n\u001b[0;32m     72\u001b[0m \u001b[38;5;124m    [2] fugir \u001b[39m\n\u001b[0;32m     73\u001b[0m \u001b[38;5;124m    \u001b[39m\u001b[38;5;124m'''\u001b[39m)\n\u001b[1;32m---> 74\u001b[0m     opcao \u001b[38;5;241m=\u001b[39m \u001b[38;5;28minput\u001b[39m(\u001b[38;5;124m'\u001b[39m\u001b[38;5;124mqual a sua esolha? tik tak escole rapido\u001b[39m\u001b[38;5;124m'\u001b[39m)\n\u001b[0;32m     75\u001b[0m     \u001b[38;5;28;01mif\u001b[39;00m opcao \u001b[38;5;241m==\u001b[39m \u001b[38;5;124m'\u001b[39m\u001b[38;5;124m1\u001b[39m\u001b[38;5;124m'\u001b[39m:\n\u001b[0;32m     76\u001b[0m         \u001b[38;5;28mself\u001b[39m\u001b[38;5;241m.\u001b[39mjogador\u001b[38;5;241m.\u001b[39matacar(\u001b[38;5;28mself\u001b[39m\u001b[38;5;241m.\u001b[39minimigo)\n",
      "File \u001b[1;32m~\\anaconda3\\Lib\\site-packages\\ipykernel\\kernelbase.py:1262\u001b[0m, in \u001b[0;36mKernel.raw_input\u001b[1;34m(self, prompt)\u001b[0m\n\u001b[0;32m   1260\u001b[0m     msg \u001b[38;5;241m=\u001b[39m \u001b[38;5;124m\"\u001b[39m\u001b[38;5;124mraw_input was called, but this frontend does not support input requests.\u001b[39m\u001b[38;5;124m\"\u001b[39m\n\u001b[0;32m   1261\u001b[0m     \u001b[38;5;28;01mraise\u001b[39;00m StdinNotImplementedError(msg)\n\u001b[1;32m-> 1262\u001b[0m \u001b[38;5;28;01mreturn\u001b[39;00m \u001b[38;5;28mself\u001b[39m\u001b[38;5;241m.\u001b[39m_input_request(\n\u001b[0;32m   1263\u001b[0m     \u001b[38;5;28mstr\u001b[39m(prompt),\n\u001b[0;32m   1264\u001b[0m     \u001b[38;5;28mself\u001b[39m\u001b[38;5;241m.\u001b[39m_parent_ident[\u001b[38;5;124m\"\u001b[39m\u001b[38;5;124mshell\u001b[39m\u001b[38;5;124m\"\u001b[39m],\n\u001b[0;32m   1265\u001b[0m     \u001b[38;5;28mself\u001b[39m\u001b[38;5;241m.\u001b[39mget_parent(\u001b[38;5;124m\"\u001b[39m\u001b[38;5;124mshell\u001b[39m\u001b[38;5;124m\"\u001b[39m),\n\u001b[0;32m   1266\u001b[0m     password\u001b[38;5;241m=\u001b[39m\u001b[38;5;28;01mFalse\u001b[39;00m,\n\u001b[0;32m   1267\u001b[0m )\n",
      "File \u001b[1;32m~\\anaconda3\\Lib\\site-packages\\ipykernel\\kernelbase.py:1305\u001b[0m, in \u001b[0;36mKernel._input_request\u001b[1;34m(self, prompt, ident, parent, password)\u001b[0m\n\u001b[0;32m   1302\u001b[0m \u001b[38;5;28;01mexcept\u001b[39;00m \u001b[38;5;167;01mKeyboardInterrupt\u001b[39;00m:\n\u001b[0;32m   1303\u001b[0m     \u001b[38;5;66;03m# re-raise KeyboardInterrupt, to truncate traceback\u001b[39;00m\n\u001b[0;32m   1304\u001b[0m     msg \u001b[38;5;241m=\u001b[39m \u001b[38;5;124m\"\u001b[39m\u001b[38;5;124mInterrupted by user\u001b[39m\u001b[38;5;124m\"\u001b[39m\n\u001b[1;32m-> 1305\u001b[0m     \u001b[38;5;28;01mraise\u001b[39;00m \u001b[38;5;167;01mKeyboardInterrupt\u001b[39;00m(msg) \u001b[38;5;28;01mfrom\u001b[39;00m \u001b[38;5;28;01mNone\u001b[39;00m\n\u001b[0;32m   1306\u001b[0m \u001b[38;5;28;01mexcept\u001b[39;00m \u001b[38;5;167;01mException\u001b[39;00m:\n\u001b[0;32m   1307\u001b[0m     \u001b[38;5;28mself\u001b[39m\u001b[38;5;241m.\u001b[39mlog\u001b[38;5;241m.\u001b[39mwarning(\u001b[38;5;124m\"\u001b[39m\u001b[38;5;124mInvalid Message:\u001b[39m\u001b[38;5;124m\"\u001b[39m, exc_info\u001b[38;5;241m=\u001b[39m\u001b[38;5;28;01mTrue\u001b[39;00m)\n",
      "\u001b[1;31mKeyboardInterrupt\u001b[0m: Interrupted by user"
     ]
    }
   ],
   "source": [
    "import random \n",
    "\n",
    "class Jogador ():\n",
    "    \n",
    "    def __init__(self, nome):\n",
    "        self.nome = nome \n",
    "        self.vida = 50\n",
    "        self.ataque = 10\n",
    "        self.defesa = 8\n",
    "        self.itens = []\n",
    "\n",
    "    def atacar(self,inimigo):\n",
    "        dano = max(0,self.ataque - inimigo.defesa) \n",
    "        inimigo.vida = inimigo.vida - dano\n",
    "        print('{} causou {} de dano'.format(self.nome, dano))\n",
    "    def mostrarStatus(self):\n",
    "        print('='*50)\n",
    "        print('estatus do jogador')\n",
    "        print('='*50)\n",
    "        print('nome: {}'.format(self.nome))\n",
    "        print('vida: {}'.format(self.vida))\n",
    "        print('ataque: {}'.format(self.ataque))\n",
    "        print('defesa: {}'.format(self.defesa))\n",
    "        print('itens: {}'.format(self.itens))\n",
    "\n",
    "    def pegarItem(self, item_encontrado):\n",
    "        self.itens.append(item_encontrado)\n",
    "        print('voce pegou o {}'.format(item_encontrado))\n",
    "        \n",
    "class Inimigo():\n",
    "    def __init__(self,nome, vida, ataque, defesa):\n",
    "        self.nome = nome\n",
    "        self.vida = vida \n",
    "        self.ataque = ataque \n",
    "        self.defesa = defesa\n",
    "\n",
    "    def atacar(self, jogador):\n",
    "        dano = max (0, self.ataque - jogador.defesa)\n",
    "        jogador.vida = jogador.vida - dano \n",
    "        print('{} causou {} de dano'.format(self.nome, dano))\n",
    "\n",
    "class Calabouço():\n",
    "\n",
    "    def __init__(self,jogador, inimigos):\n",
    "        self.jogador = jogador\n",
    "        self.inimigo=random.choice(inimigos)\n",
    "        self.itens = ['poçao de vida', 'espada']\n",
    "        \n",
    "    def jogar(self):\n",
    "        while True: \n",
    "            print('''\n",
    "            [1] mover-se para a proxima sala\n",
    "            [2] mostrar seu status \n",
    "            [3] procura itens dentro do calabouço \n",
    "            [4] sair do calabouço\n",
    "            ''')\n",
    "            opcao = input('qual sua opção')\n",
    "            if opcao == '1':\n",
    "                self.enfrentarInimigo()\n",
    "            elif opcao == '2':\n",
    "                self.jogador.mostrarStatus()\n",
    "            elif opcao == '3':\n",
    "                self.procurarItens()\n",
    "            else:\n",
    "                print('obigado por jogar.volte sempre')\n",
    "\n",
    "    def enfrentarInimigo(self):\n",
    "        self.setInimigo(inimigos)\n",
    "        while self.jogador.vida > 0 and self.inimigo.vida > 0:\n",
    "            print('''\n",
    "            [1] massacrar \n",
    "            [2] fugir \n",
    "            ''')\n",
    "            opcao = input('qual a sua esolha? tik tak escole rapido')\n",
    "            if opcao == '1':\n",
    "                self.jogador.atacar(self.inimigo)\n",
    "            if self.inimigo.vida >= 0:\n",
    "                self.inimigo.atacar(self.jogador)\n",
    "            elif opcao == '2': \n",
    "                print('voce tremeu na base')\n",
    "                break\n",
    "            else:\n",
    "                print('invalida. digite novamente')\n",
    "\n",
    "            if self.jogador.vida < 0:\n",
    "                print ('gamer over')\n",
    "\n",
    "            if self.inimigo.vida < 0:\n",
    "                print('PARABENS VC MASSACROU O INIMIGO')\n",
    "\n",
    "    def procurarItens(self):\n",
    "        item_encontrado = random.choice(self.itens)\n",
    "        self.jogador.pegarItem(item_encontrado)\n",
    "\n",
    "    def setInimigo(self,inimigos):\n",
    "        self.inimigo = random.choice (inimigos)\n",
    "        \n",
    "       \n",
    "            \n",
    "\n",
    "\n",
    "\n",
    "#Programa principal\n",
    "nome_jogador = input('qual o nome do seu personagem?')\n",
    "print('bem vindo, {}. voce entrou no calabouço!'.format(nome_jogador))\n",
    "jogador = Jogador(nome_jogador)\n",
    "\n",
    "\n",
    "inimigos = [Inimigo('ogro', 20,17,9), Inimigo('esqueleto',15,9,8), Inimigo('coblin',10,12,7)]\n",
    "\n",
    "\n",
    "jogo = Calabouço(jogador, inimigos)\n",
    "jogo.jogar()\n",
    "    \n"
   ]
  },
  {
   "cell_type": "code",
   "execution_count": null,
   "id": "5f96c0e3-6b62-4beb-aeba-edf999c1b5ef",
   "metadata": {},
   "outputs": [],
   "source": []
  },
  {
   "cell_type": "code",
   "execution_count": null,
   "id": "a8b838a8-280c-4eac-ace3-37d292880347",
   "metadata": {},
   "outputs": [],
   "source": [
    "\n"
   ]
  }
 ],
 "metadata": {
  "kernelspec": {
   "display_name": "Python 3 (ipykernel)",
   "language": "python",
   "name": "python3"
  },
  "language_info": {
   "codemirror_mode": {
    "name": "ipython",
    "version": 3
   },
   "file_extension": ".py",
   "mimetype": "text/x-python",
   "name": "python",
   "nbconvert_exporter": "python",
   "pygments_lexer": "ipython3",
   "version": "3.11.7"
  }
 },
 "nbformat": 4,
 "nbformat_minor": 5
}
