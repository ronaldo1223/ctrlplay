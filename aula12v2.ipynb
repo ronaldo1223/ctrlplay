{
 "cells": [
  {
   "cell_type": "code",
   "execution_count": 9,
   "id": "4e737ce0-748d-49a2-b2dc-37eacf2529a1",
   "metadata": {},
   "outputs": [],
   "source": [
    "class casa ():\n",
    "    rua = 'avenida winston churchil' \n",
    "    bairro = ' capão raso'\n",
    "    cep = ' 81130-000'\n",
    "\n",
    "    def enderecocompleto(self):\n",
    "        return ' endereço completo: {}, {} - cep: {}'. format(self.rua, self.bairro, self.cep)"
   ]
  }
 ],
 "metadata": {
  "kernelspec": {
   "display_name": "Python 3 (ipykernel)",
   "language": "python",
   "name": "python3"
  },
  "language_info": {
   "codemirror_mode": {
    "name": "ipython",
    "version": 3
   },
   "file_extension": ".py",
   "mimetype": "text/x-python",
   "name": "python",
   "nbconvert_exporter": "python",
   "pygments_lexer": "ipython3",
   "version": "3.11.7"
  }
 },
 "nbformat": 4,
 "nbformat_minor": 5
}
