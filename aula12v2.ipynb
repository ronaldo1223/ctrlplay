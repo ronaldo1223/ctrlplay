{
 "cells": [
  {
   "cell_type": "code",
   "execution_count": 9,
   "id": "4e737ce0-748d-49a2-b2dc-37eacf2529a1",
   "metadata": {},
   "outputs": [],
   "source": [
    "class casa ():\n",
    "    rua = 'avenida winston churchill' \n",
    "    bairro = ' capão raso'\n",
    "    cep = ' 81130-000'\n",
    "\n",
    "    def enderecocompleto(self):\n",
    "        return ' endereço completo: {}, {} - cep: {}'. format(self.rua, self.bairro, self.cep)\n",
    "\n",
    "casa1 = casa() \n"
   ]
  },
  {
   "cell_type": "code",
   "execution_count": 57,
   "id": "b66d334d-b9ba-4814-a32e-b8b27f32b064",
   "metadata": {},
   "outputs": [
    {
     "name": "stdin",
     "output_type": "stream",
     "text": [
      "qual o nome do seu personagem? cavaleiro\n"
     ]
    },
    {
     "name": "stdout",
     "output_type": "stream",
     "text": [
      "bem vindo, cavaleiro. voce entrou no calabouço!\n",
      "\n",
      "            [1] mover-se para a proxima sala\n",
      "            [2] mostrar seu status \n",
      "            [3] procura itens dentro do calabouço \n",
      "            [4] sair do calabouço\n",
      "            \n"
     ]
    },
    {
     "name": "stdin",
     "output_type": "stream",
     "text": [
      "qual sua opção 2\n"
     ]
    },
    {
     "name": "stdout",
     "output_type": "stream",
     "text": [
      "==================================================\n",
      "estatus do jogador\n",
      "==================================================\n",
      "nome: cavaleiro\n",
      "vida: 50\n",
      "ataque: 10\n",
      "defesa: 8\n",
      "itens: []\n",
      "\n",
      "            [1] mover-se para a proxima sala\n",
      "            [2] mostrar seu status \n",
      "            [3] procura itens dentro do calabouço \n",
      "            [4] sair do calabouço\n",
      "            \n"
     ]
    },
    {
     "name": "stdin",
     "output_type": "stream",
     "text": [
      "qual sua opção 4\n"
     ]
    },
    {
     "name": "stdout",
     "output_type": "stream",
     "text": [
      "obigado por jogar.volte sempre\n"
     ]
    }
   ],
   "source": [
    "import random \n",
    "\n",
    "class Jogador ():\n",
    "    \n",
    "    def __init__(self, nome):\n",
    "        self.nome = nome \n",
    "        self.vida = 50\n",
    "        self.ataque = 10\n",
    "        self.defesa = 8\n",
    "        self.itens = []\n",
    "\n",
    "    def atacar(self,inimigo):\n",
    "        dano = max(0,self.ataque - inimigo.defesa) \n",
    "        inimigo.vida = inimigo.vida - dano\n",
    "        print('{} causou {} de dano'.format(self.nome, dano))\n",
    "    def mostrarStatus(self):\n",
    "        print('='*50)\n",
    "        print('estatus do jogador')\n",
    "        print('='*50)\n",
    "        print('nome: {}'.format(self.nome))\n",
    "        print('vida: {}'.format(self.vida))\n",
    "        print('ataque: {}'.format(self.ataque))\n",
    "        print('defesa: {}'.format(self.defesa))\n",
    "        print('itens: {}'.format(self.itens))\n",
    "\n",
    "    def pegarItem(self, item_encontrado):\n",
    "        self.itens.append(item_encontrado)\n",
    "        print('voce pegou o {}'.format(item_encontrado))\n",
    "        \n",
    "class Inimigo():\n",
    "    def __init__(self,nome, vida, ataque, defesa):\n",
    "        self.nome = nome\n",
    "        self.vida = vida \n",
    "        self.ataque = ataque \n",
    "        self.defesa = defesa\n",
    "\n",
    "    def atacar(self, jogador):\n",
    "        dano = max (0, self.ataque - jogador.defesa)\n",
    "        jogador.vida = jogador.vida - dano \n",
    "        print('{} causou {} de dano'.format(self.nome, dano))\n",
    "\n",
    "class Calabouço():\n",
    "\n",
    "    def __init__(self,jogador, inimigos):\n",
    "        self.jogador = jogador\n",
    "        self.inimigo=random.choice(inimigos)\n",
    "        self.itens = ['poçao de vida', 'espada']\n",
    "        \n",
    "    def jogar(self):\n",
    "        while True: \n",
    "            print('''\n",
    "            [1] mover-se para a proxima sala\n",
    "            [2] mostrar seu status \n",
    "            [3] procura itens dentro do calabouço \n",
    "            [4] sair do calabouço\n",
    "            ''')\n",
    "            opcao = input('qual sua opção')\n",
    "            if opcao == '1':\n",
    "                self.enfrentarInimigo()\n",
    "            elif opcao == '2':\n",
    "                self.jogador.mostrarStatus()\n",
    "            elif opcao == '3':\n",
    "                self.procurarItens()\n",
    "            else:\n",
    "                print('obigado por jogar.volte sempre')\n",
    "                break\n",
    "\n",
    "    def enfrentarInimigo(self):\n",
    "        self.setInimigo(inimigos)\n",
    "        while self.jogador.vida > 0 and self.inimigo.vida > 0:\n",
    "            print('''\n",
    "            [1] massacrar \n",
    "            [2] fugir \n",
    "            ''')\n",
    "            opcao = input('qual a sua esolha? tik tak escole rapido')\n",
    "            if opcao == '1':\n",
    "                self.jogador.atacar(self.inimigo)\n",
    "            if self.inimigo.vida >= 0:\n",
    "                self.inimigo.atacar(self.jogador)\n",
    "            elif opcao == '2': \n",
    "                print('voce tremeu na base')\n",
    "                break\n",
    "            else:\n",
    "                print('invalida. digite novamente')\n",
    "\n",
    "            if self.jogador.vida < 0:\n",
    "                print ('gamer over')\n",
    "\n",
    "            if self.inimigo.vida < 0:\n",
    "                print('PARABENS VC MASSACROU O INIMIGO')\n",
    "\n",
    "    def procurarItens(self):\n",
    "        item_encontrado = random.choice(self.itens)\n",
    "        self.jogador.pegarItem(item_encontrado)\n",
    "\n",
    "    def setInimigo(self,inimigos):\n",
    "        self.inimigo = random.choice (inimigos)\n",
    "        \n",
    "       \n",
    "            \n",
    "\n",
    "\n",
    "\n",
    "#Programa principal\n",
    "nome_jogador = input('qual o nome do seu personagem?')\n",
    "print('bem vindo, {}. voce entrou no calabouço!'.format(nome_jogador))\n",
    "jogador = Jogador(nome_jogador)\n",
    "\n",
    "\n",
    "inimigos = [Inimigo('ogro', 20,17,9), Inimigo('esqueleto',15,9,8), Inimigo('coblin',10,12,7)]\n",
    "\n",
    "\n",
    "jogo = Calabouço(jogador, inimigos)\n",
    "jogo.jogar()\n",
    "    \n"
   ]
  },
  {
   "cell_type": "code",
   "execution_count": null,
   "id": "5f96c0e3-6b62-4beb-aeba-edf999c1b5ef",
   "metadata": {},
   "outputs": [],
   "source": []
  },
  {
   "cell_type": "code",
   "execution_count": null,
   "id": "a8b838a8-280c-4eac-ace3-37d292880347",
   "metadata": {},
   "outputs": [],
   "source": [
    "\n"
   ]
  }
 ],
 "metadata": {
  "kernelspec": {
   "display_name": "Python 3 (ipykernel)",
   "language": "python",
   "name": "python3"
  },
  "language_info": {
   "codemirror_mode": {
    "name": "ipython",
    "version": 3
   },
   "file_extension": ".py",
   "mimetype": "text/x-python",
   "name": "python",
   "nbconvert_exporter": "python",
   "pygments_lexer": "ipython3",
   "version": "3.11.7"
  }
 },
 "nbformat": 4,
 "nbformat_minor": 5
}
