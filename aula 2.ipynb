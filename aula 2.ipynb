{
 "cells": [
  {
   "cell_type": "code",
   "execution_count": 1,
   "id": "c323a380-baa5-4300-b434-0414e665ac6c",
   "metadata": {},
   "outputs": [
    {
     "data": {
      "text/plain": [
       "2"
      ]
     },
     "execution_count": 1,
     "metadata": {},
     "output_type": "execute_result"
    }
   ],
   "source": [
    "1+1"
   ]
  },
  {
   "cell_type": "code",
   "execution_count": 16,
   "id": "700fc6d4-1276-4841-b0cb-745d7f6b16b8",
   "metadata": {},
   "outputs": [
    {
     "name": "stdout",
     "output_type": "stream",
     "text": [
      "o perimetro do triangulo é igual a 12\n",
      " a area do triangulo é igual a 6.0 \n"
     ]
    }
   ],
   "source": [
    "x = 3 \n",
    "y = 4 \n",
    "z = 5 \n",
    "p_tri = x + y + z \n",
    "print('o perimetro do triangulo é igual a {}'. format (p_tri))\n",
    "area = x * y / 2 \n",
    "print (' a area do triangulo é igual a {} '. format (area))"
   ]
  },
  {
   "cell_type": "code",
   "execution_count": 19,
   "id": "deac5fb9-76a4-4b08-86a7-571e7f575617",
   "metadata": {
    "scrolled": true
   },
   "outputs": [
    {
     "name": "stdout",
     "output_type": "stream",
     "text": [
      " o antecesor de 5 é igual a 4 \n",
      "o sucesor de 5 é igual a 6 \n"
     ]
    }
   ],
   "source": [
    "n = 5 \n",
    "ant = n - 1\n",
    "suc = n + 1\n",
    "print (' o antecesor de {} é igual a {} ' . format( n , ant))\n",
    "print ('o sucesor de {} é igual a {} ' . format (n , suc)) "
   ]
  },
  {
   "cell_type": "code",
   "execution_count": 21,
   "id": "5844bf47-bba2-4445-9b80-00fbbc1f6786",
   "metadata": {},
   "outputs": [
    {
     "name": "stdout",
     "output_type": "stream",
     "text": [
      "olá!\n",
      " olá tudo bem? \n",
      "ctrl+play - escola de programação de robótica\n",
      " aqui tem uma palavra olá! \n"
     ]
    }
   ],
   "source": [
    "# uma palavra \n",
    "string1 = 'olá!'\n",
    "string2 = ' olá tudo bem? ' \n",
    "string3 = 'ctrl+play - escola de programação de robótica'\n",
    "print (string1)\n",
    "print (string2)\n",
    "print(string3) \n",
    "# uma palavra \n",
    "print (' aqui tem uma palavra {} ' . format ( string1))"
   ]
  },
  {
   "cell_type": "code",
   "execution_count": 25,
   "id": "374b92bc-e706-4b0b-a1c3-cc6b95837c63",
   "metadata": {},
   "outputs": [
    {
     "name": "stdout",
     "output_type": "stream",
     "text": [
      "teste\n",
      "teste\n"
     ]
    },
    {
     "data": {
      "text/plain": [
       "'teste'"
      ]
     },
     "execution_count": 25,
     "metadata": {},
     "output_type": "execute_result"
    }
   ],
   "source": [
    "# formas de imprimir uma string \n",
    "string = 'teste'\n",
    "print ( string)\n",
    "print ('teste') \n",
    "'teste'"
   ]
  },
  {
   "cell_type": "code",
   "execution_count": 36,
   "id": "44416070-602a-4422-9fc9-69a36a93eefd",
   "metadata": {},
   "outputs": [
    {
     "name": "stdout",
     "output_type": "stream",
     "text": [
      "boston \n",
      "vs\n",
      "charlotte\n",
      "\t boston vs \tcharlott\n"
     ]
    }
   ],
   "source": [
    "# utilizando \\n para saltar linhas \n",
    "print('boston \\nvs\\ncharlotte')\n",
    "print ('\\t boston vs \\tcharlott')"
   ]
  },
  {
   "cell_type": "code",
   "execution_count": 41,
   "id": "fc49ed26-5c79-4f22-b701-73f05c1133b3",
   "metadata": {},
   "outputs": [
    {
     "name": "stdout",
     "output_type": "stream",
     "text": [
      "b\n"
     ]
    }
   ],
   "source": [
    "time = 'boston' \n",
    "print (time[0:1])"
   ]
  },
  {
   "cell_type": "code",
   "execution_count": 50,
   "id": "b7652e61-77e4-401b-a972-95eff489ccc5",
   "metadata": {},
   "outputs": [
    {
     "name": "stdout",
     "output_type": "stream",
     "text": [
      "boston\n"
     ]
    }
   ],
   "source": [
    "time = 'boston'\n",
    "print (time[::])"
   ]
  },
  {
   "cell_type": "code",
   "execution_count": 61,
   "id": "abc25254-dc5d-4e59-9103-0cc6b7736ae3",
   "metadata": {},
   "outputs": [
    {
     "name": "stdout",
     "output_type": "stream",
     "text": [
      "3\n"
     ]
    }
   ],
   "source": [
    "email = 'ronaldovasconcelo70@gmail.com'\n",
    "print ( email.count('a'))"
   ]
  },
  {
   "cell_type": "code",
   "execution_count": null,
   "id": "9b3b98f8-f72e-4349-890a-356c85bbfb94",
   "metadata": {},
   "outputs": [],
   "source": [
    "igual \n",
    "nome = '='"
   ]
  },
  {
   "cell_type": "code",
   "execution_count": 63,
   "id": "49c341b4-4afb-4587-a4e6-878a39602bc4",
   "metadata": {},
   "outputs": [
    {
     "name": "stdout",
     "output_type": "stream",
     "text": [
      "-=\n",
      " -= -= -= -= -= -= -= -= -= -= -= -= -= -= -= -= -= -= -= -=\n"
     ]
    }
   ],
   "source": [
    "traço = '-' \n",
    "igual = '=' \n",
    "print ( traço + igual) \n",
    "print (' -='*20)"
   ]
  },
  {
   "cell_type": "code",
   "execution_count": 64,
   "id": "53bcee6e-a422-4740-9b91-2c828fe974b4",
   "metadata": {},
   "outputs": [
    {
     "name": "stdout",
     "output_type": "stream",
     "text": [
      "                       RONALDO VASCONCELO \n",
      "                       ronaldo vasconcelo \n",
      "['ronaldo', 'vasconcelo']\n",
      "ronaldo vasconcelo\n"
     ]
    }
   ],
   "source": [
    "frase = '                       ronaldo vasconcelo ' \n",
    "print ( frase.upper())\n",
    "print ( frase.lower())\n",
    "print ( frase.split())\n",
    "print ( frase.strip())"
   ]
  },
  {
   "cell_type": "code",
   "execution_count": 77,
   "id": "7f3c266f-91f6-438f-a38f-2094a79b9434",
   "metadata": {},
   "outputs": [
    {
     "name": "stdin",
     "output_type": "stream",
     "text": [
      "Qual o seu nome?  ronaldo\n"
     ]
    },
    {
     "name": "stdout",
     "output_type": "stream",
     "text": [
      " prazer em teconhecer, ronaldo! \n",
      " Prazer em teconhecer, ronaldo             ! \n",
      " prazer em te conhecer, ronaldo             !\n",
      " prazer em te conhecer,              ronaldo!\n",
      " prazer em te conhecer,       ronaldo       ! \n",
      " prazer em te conhercer ======ronaldo=======!\n"
     ]
    }
   ],
   "source": [
    "#formatação \n",
    "nome =  input ( 'Qual o seu nome? ') \n",
    "print (' prazer em teconhecer, {}! '. format ( nome)) \n",
    "print (' Prazer em teconhecer, {:20}! '. format(nome)) \n",
    "print (' prazer em te conhecer, {:<20}!'. format(nome))\n",
    "print (' prazer em te conhecer, {:>20}!'. format(nome))\n",
    "print (' prazer em te conhecer, {:^20}! '. format(nome))\n",
    "print (' prazer em te conhercer {:=^20}!'. format (nome))"
   ]
  },
  {
   "cell_type": "code",
   "execution_count": 1,
   "id": "069bbf84-fa10-4772-a709-462edac4e15e",
   "metadata": {},
   "outputs": [
    {
     "name": "stdout",
     "output_type": "stream",
     "text": [
      " \n",
      "c\n",
      "t\n",
      "r\n",
      "l\n",
      " \n",
      "+\n",
      " \n",
      "p\n"
     ]
    }
   ],
   "source": [
    "# frase aula 3\n",
    "frase = ' ctrl + play' \n",
    "print ( frase [0]) \n",
    "print ( frase [1] ) \n",
    "print ( frase [2] )\n",
    "print ( frase [3] )\n",
    "print ( frase [4] ) \n",
    "print ( frase [5] )\n",
    "print ( frase [6] ) \n",
    "print ( frase [7] ) \n",
    "print ( frase [8] ) \n"
   ]
  },
  {
   "cell_type": "code",
   "execution_count": 9,
   "id": "cfef6b2d-9273-4ce1-b5a3-7fbb5302fd6e",
   "metadata": {},
   "outputs": [
    {
     "name": "stdout",
     "output_type": "stream",
     "text": [
      "c\n",
      "ct\n",
      "ctr\n",
      "ctrl\n",
      "ctrl+\n",
      "ctrl+p\n",
      "ctrl+pl\n",
      "ctrl+pla\n"
     ]
    }
   ],
   "source": [
    "frase  = 'ctrl+play'\n",
    "print ( frase [ :1] )\n",
    "print ( frase [ :2] ) \n",
    "print ( frase [ :3] ) \n",
    "print ( frase [ :4] )\n",
    "print ( frase [ :5] )\n",
    "print ( frase [ :6] ) \n",
    "print ( frase [ :7] )\n",
    "print ( frase [ :8] ) "
   ]
  },
  {
   "cell_type": "code",
   "execution_count": 21,
   "id": "3d606d41-3ea9-49b2-90fb-0d5a7cff14bf",
   "metadata": {},
   "outputs": [
    {
     "name": "stdin",
     "output_type": "stream",
     "text": [
      " digite o nome da cidade  Santo \n"
     ]
    },
    {
     "name": "stdout",
     "output_type": "stream",
     "text": [
      "True\n"
     ]
    }
   ],
   "source": [
    "cidade = input (' digite o nome da cidade ' ) .strip (). lower()\n",
    "print ( cidade [ :5] =='santo' ) "
   ]
  },
  {
   "cell_type": "code",
   "execution_count": null,
   "id": "8189aa74-baec-467b-a9b9-f52f61e7b106",
   "metadata": {},
   "outputs": [],
   "source": []
  }
 ],
 "metadata": {
  "kernelspec": {
   "display_name": "Python 3 (ipykernel)",
   "language": "python",
   "name": "python3"
  },
  "language_info": {
   "codemirror_mode": {
    "name": "ipython",
    "version": 3
   },
   "file_extension": ".py",
   "mimetype": "text/x-python",
   "name": "python",
   "nbconvert_exporter": "python",
   "pygments_lexer": "ipython3",
   "version": "3.11.7"
  }
 },
 "nbformat": 4,
 "nbformat_minor": 5
}
