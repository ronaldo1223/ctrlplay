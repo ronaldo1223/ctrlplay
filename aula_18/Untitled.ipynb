{
 "cells": [
  {
   "cell_type": "code",
   "execution_count": 7,
   "id": "9861cf97-f4c6-4b9f-8542-5de04c6a7741",
   "metadata": {},
   "outputs": [
    {
     "name": "stdout",
     "output_type": "stream",
     "text": [
      "15\n",
      "<built-in method time of datetime.datetime object at 0x0000027C9CAA09F0>\n"
     ]
    }
   ],
   "source": [
    "from datetime import datetime, time \n",
    "\n",
    "hora_atual = datetime.now().time().hour\n",
    "hora_minu_atual=datetime.now().time\n",
    "print(hora_atual)\n",
    "print(hora_minu_atual)"
   ]
  }
 ],
 "metadata": {
  "kernelspec": {
   "display_name": "Python 3 (ipykernel)",
   "language": "python",
   "name": "python3"
  },
  "language_info": {
   "codemirror_mode": {
    "name": "ipython",
    "version": 3
   },
   "file_extension": ".py",
   "mimetype": "text/x-python",
   "name": "python",
   "nbconvert_exporter": "python",
   "pygments_lexer": "ipython3",
   "version": "3.11.7"
  }
 },
 "nbformat": 4,
 "nbformat_minor": 5
}
