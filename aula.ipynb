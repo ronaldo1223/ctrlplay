{
 "cells": [
  {
   "cell_type": "code",
   "execution_count": 35,
   "id": "31220a72-96c8-4272-93cf-ea602f6a5b15",
   "metadata": {},
   "outputs": [
    {
     "name": "stdout",
     "output_type": "stream",
     "text": [
      "['josé', 'ana', 'enzo', 'valentina']\n",
      "adicionando um convidado no fínal: ['josé', 'ana', 'enzo', 'valentina', 'andre'] \n",
      "inserindo um convidado na posição 1: ['josé', 'ronaldo', 'ana', 'enzo', 'valentina', 'andre'] \n",
      " romoveu o segundo: ronaldo.  corconfirmados: ['josé', 'ana', 'enzo', 'valentina', 'andre'] \n",
      "ferias: andre. não vai a festa. confirmados: ['josé', 'ana', 'enzo', 'valentina'] \n",
      "colocando em ordem cresente: ['ana', 'enzo', 'josé', 'valentina'] \n",
      "4\n",
      "['enzo', 'josé']\n",
      "[1, 2, 3, 4, 5, 6, 7, 8, 9]\n",
      "[45, 29, 25, 51, 25, 39]\n",
      "ronaldo azul \n",
      "heitor azul claro \n"
     ]
    }
   ],
   "source": [
    "convidados = [ 'josé', 'ana' , 'enzo', 'valentina', ]  \n",
    "print (convidados) \n",
    "convidados.append('andre') \n",
    "print ('adicionando um convidado no fínal: {} '.format(convidados)) \n",
    "convidados.insert(1,'ronaldo')\n",
    "print('inserindo um convidado na posição 1: {} '. format(convidados))\n",
    "segundo = convidados.pop(1) \n",
    "print (' romoveu o segundo: {}.  corconfirmados: {} '. format(segundo, convidados))\n",
    "ferias = 'andre'\n",
    "convidados.remove(ferias)\n",
    "print('ferias: {}. não vai a festa. confirmados: {} '. format (ferias, convidados))\n",
    "convidados.sort()\n",
    "print('colocando em ordem cresente: {} '. format(convidados)) \n",
    "print(len(convidados))\n",
    "print(convidados[1:3])\n",
    "numeros = list(range(1,10))  \n",
    "print(numeros)\n",
    "from random import randint\n",
    "megasena = [randint(1,60), randint(1,60),randint(1,60),randint(1,60),randint(1,60),randint(1,60)]\n",
    "print (megasena)\n",
    "\n",
    "nomesxcores = [['ronaldo','heitor','simon','andre'],[ 'azul','azul claro','preto','laranja']]\n",
    "print('{} {} '.format(nomesxcores [0] [0],nomesxcores[1][0]))\n",
    "print('{} {} '.format(nomesxcores [0] [1],nomesxcores[1] [1]))\n"
   ]
  },
  {
   "cell_type": "code",
   "execution_count": null,
   "id": "73aa8c11-1ddb-4fd4-b927-e75437a394b3",
   "metadata": {},
   "outputs": [],
   "source": []
  }
 ],
 "metadata": {
  "kernelspec": {
   "display_name": "Python 3 (ipykernel)",
   "language": "python",
   "name": "python3"
  },
  "language_info": {
   "codemirror_mode": {
    "name": "ipython",
    "version": 3
   },
   "file_extension": ".py",
   "mimetype": "text/x-python",
   "name": "python",
   "nbconvert_exporter": "python",
   "pygments_lexer": "ipython3",
   "version": "3.11.7"
  }
 },
 "nbformat": 4,
 "nbformat_minor": 5
}
