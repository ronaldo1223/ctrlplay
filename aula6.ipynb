{
 "cells": [
  {
   "cell_type": "code",
   "execution_count": 6,
   "id": "23f16939-5f4e-41fe-a772-840489747b30",
   "metadata": {},
   "outputs": [
    {
     "name": "stdin",
     "output_type": "stream",
     "text": [
      "digite um numero 33\n"
     ]
    },
    {
     "name": "stdout",
     "output_type": "stream",
     "text": [
      "1 3 11 33 \n",
      "33 não é primo!\n"
     ]
    }
   ],
   "source": []
  },
  {
   "cell_type": "code",
   "execution_count": 15,
   "id": "6c63c4db-b6df-40a9-bf1a-ee2961f3c2af",
   "metadata": {},
   "outputs": [
    {
     "name": "stdout",
     "output_type": "stream",
     "text": [
      "tres\n",
      "('tres', True, 4.5)\n",
      "4.5\n"
     ]
    }
   ],
   "source": [
    "t = (1, 2, 3) \n",
    "t = ('um', 2, 'tres', True, 4.5, 'cinco', False)\n",
    "print(t[2])\n",
    "print(t[2:5])\n",
    "print(t [4])"
   ]
  },
  {
   "cell_type": "code",
   "execution_count": 19,
   "id": "6252a99c-9c1e-4fa5-8d7e-59621b42eba2",
   "metadata": {},
   "outputs": [
    {
     "name": "stdout",
     "output_type": "stream",
     "text": [
      "10\n",
      "6\n",
      "1\n"
     ]
    },
    {
     "ename": "TypeError",
     "evalue": "'tuple' object does not support item assignment",
     "output_type": "error",
     "traceback": [
      "\u001b[1;31m---------------------------------------------------------------------------\u001b[0m",
      "\u001b[1;31mTypeError\u001b[0m                                 Traceback (most recent call last)",
      "Cell \u001b[1;32mIn[19], line 5\u001b[0m\n\u001b[0;32m      3\u001b[0m \u001b[38;5;28mprint\u001b[39m(t\u001b[38;5;241m.\u001b[39mindex(\u001b[38;5;241m7\u001b[39m))\n\u001b[0;32m      4\u001b[0m \u001b[38;5;28mprint\u001b[39m(t\u001b[38;5;241m.\u001b[39mcount(\u001b[38;5;241m2\u001b[39m))\n\u001b[1;32m----> 5\u001b[0m t[\u001b[38;5;241m0\u001b[39m] \u001b[38;5;241m=\u001b[39m \u001b[38;5;124m'\u001b[39m\u001b[38;5;124mnovo valor\u001b[39m\u001b[38;5;124m'\u001b[39m\n\u001b[0;32m      6\u001b[0m t\u001b[38;5;241m.\u001b[39mappend(\u001b[38;5;241m5\u001b[39m)\n",
      "\u001b[1;31mTypeError\u001b[0m: 'tuple' object does not support item assignment"
     ]
    }
   ],
   "source": [
    "t = (1, 2, 3, 4, 5, 6, 7, 8, 9, 10)\n",
    "print(len(t))\n",
    "print(t.index(7))\n",
    "print(t.count(2))\n",
    "t[0] = 'novo valor'\n",
    "t.append(5)\n"
   ]
  },
  {
   "cell_type": "code",
   "execution_count": 26,
   "id": "9ba83371-c42f-4656-b838-ec0d83a43473",
   "metadata": {},
   "outputs": [
    {
     "name": "stdout",
     "output_type": "stream",
     "text": [
      "{1, 2}\n",
      "{1, 2}\n"
     ]
    }
   ],
   "source": [
    "#sets\n",
    "x = set()\n",
    "x.add(1)\n",
    "x.add(2)\n",
    "print(x)\n",
    "x.add(1)\n",
    "print(x)"
   ]
  },
  {
   "cell_type": "code",
   "execution_count": 27,
   "id": "9a5598a8-769b-494e-8caa-69d87bbefbe1",
   "metadata": {},
   "outputs": [
    {
     "name": "stdout",
     "output_type": "stream",
     "text": [
      "True False True False None\n"
     ]
    }
   ],
   "source": [
    "a = True\n",
    "b = False\n",
    "c = 1 < 2 \n",
    "d = 7 > 10\n",
    "e = None\n",
    "print(a,b,c,d,e)"
   ]
  },
  {
   "cell_type": "code",
   "execution_count": 9,
   "id": "b70744ab-f58a-4b53-818a-4f9e098c9eea",
   "metadata": {},
   "outputs": [
    {
     "name": "stdout",
     "output_type": "stream",
     "text": [
      "{'titulo': 'star wars', 'ano': 1977, 'diretor': 'george lucas'}\n",
      "0 titulo é star wars \n",
      "0 ano é 1977 \n",
      "0 diretor é george lucas \n"
     ]
    }
   ],
   "source": [
    "filme = {}\n",
    "filme['titulo']='star wars'\n",
    "filme ['ano']=1977\n",
    "filme ['diretor']= 'george lucas'\n",
    "print(filme)\n",
    "for k, v in filme.items():\n",
    "    print('0 {} é {} '.format(k,v))"
   ]
  },
  {
   "cell_type": "code",
   "execution_count": 27,
   "id": "014117ac-ca2d-4aba-bfef-e9788fd86501",
   "metadata": {},
   "outputs": [
    {
     "name": "stdout",
     "output_type": "stream",
     "text": [
      "cachorro\n",
      "33\n",
      "dict_keys(['dog', 'cat', 'key2'])\n"
     ]
    }
   ],
   "source": [
    "dicionario  = {'dog':'cachorro','cat':'gato' , 'key2':[12, 23, 33,]}\n",
    "print(dicionario['dog']) \n",
    "print(dicionario['key2'][2])\n",
    "print(dicionario.keys())"
   ]
  },
  {
   "cell_type": "code",
   "execution_count": null,
   "id": "32abbcd2-3004-4613-ba7e-c8cf2072ed38",
   "metadata": {},
   "outputs": [],
   "source": [
    "dicionario "
   ]
  }
 ],
 "metadata": {
  "kernelspec": {
   "display_name": "Python 3 (ipykernel)",
   "language": "python",
   "name": "python3"
  },
  "language_info": {
   "codemirror_mode": {
    "name": "ipython",
    "version": 3
   },
   "file_extension": ".py",
   "mimetype": "text/x-python",
   "name": "python",
   "nbconvert_exporter": "python",
   "pygments_lexer": "ipython3",
   "version": "3.11.7"
  }
 },
 "nbformat": 4,
 "nbformat_minor": 5
}
